{
 "cells": [
  {
   "cell_type": "markdown",
   "metadata": {
    "colab_type": "text",
    "id": "YtPe2HdkkYGR"
   },
   "source": [
    "# What factors significantly impact and determine whether a movie is successful?"
   ]
  },
  {
   "cell_type": "markdown",
   "metadata": {
    "colab_type": "text",
    "id": "urhdIahC6KJb"
   },
   "source": [
    "##### **Laura Anyanwu, Claire Lee, and Su'ad Mohamud**"
   ]
  },
  {
   "cell_type": "markdown",
   "metadata": {
    "colab_type": "text",
    "id": "dO-flL186rYl"
   },
   "source": [
    "## **Introduction**"
   ]
  },
  {
   "cell_type": "markdown",
   "metadata": {
    "colab_type": "text",
    "id": "aPcOzwG-kwWH"
   },
   "source": [
    "According to [“How Will the Movies Survive the Next 10 Years?”](<https://www.nytimes.com/interactive/2019/06/20/movies/movie-industry-future.html),  the movie industry is beginning to see a lot of changes that affect the profitability and “success” of a film. When major Hollywood figures were questioned about the future of movies, it brought on a discussion about  \n",
    "\n",
    "*   What drives individuals to the movie theatres? \n",
    "*   What makes certain movies worthy of watching at the movie theatres? (“theatricality”) \n",
    "\n",
    "In this tutorial, we went in with the assumption that profit generated from a film will be the determining factor of a film's success. We seek to analyze and interpret movie data from 1946 to 2015 to see what factors contributed to the profit of a given film. We look at factors such as gross, budget, IMDb scores, movie directors, and content-rating in order to determine a film’s success. We hope to be able to determine what factors of a film contribute to it's \"success\" and  how those factors help increase a film's \"theatricality\". \n"
   ]
  },
  {
   "cell_type": "markdown",
   "metadata": {
    "colab_type": "text",
    "id": "BzjVLwGd6_AZ"
   },
   "source": [
    "### Required Libraries "
   ]
  },
  {
   "cell_type": "markdown",
   "metadata": {
    "colab_type": "text",
    "id": "3gp3X9IV7LKZ"
   },
   "source": [
    "Throughout this tutorial, we will use Python 3 as well as various libraries such as [pandas](https://pandas.pydata.org/pandas-docs/stable/), [numpy](https://numpy.org/doc/), [matplotlib](https://matplotlib.org/3.1.1/contents.html), [scipy](https://docs.scipy.org/), [sklearn](https://scikit-learn.org/), and more to manipulate and explore our datasets. \n",
    "\n",
    "A reoccuring feature within our tutorial was an [interactive dropdown widget](https://ipywidgets.readthedocs.io/en/latest/examples/Widget%20List.html) that allows the user to view different plots corresponding to a specific list of a common exploration. "
   ]
  },
  {
   "cell_type": "code",
   "execution_count": 1,
   "metadata": {
    "colab": {
     "base_uri": "https://localhost:8080/",
     "height": 802
    },
    "colab_type": "code",
    "id": "eoZ51-fK1V65",
    "outputId": "3824ba0d-8c98-4254-a2e5-72ed3141fbbd"
   },
   "outputs": [
    {
     "name": "stdout",
     "output_type": "stream",
     "text": [
      "Collecting nbinteract\n",
      "  Downloading https://files.pythonhosted.org/packages/ec/92/a7a426be88a22c77572608dba3cd21f245d1f7242722388376595a268ba4/nbinteract-0.2.4-py3-none-any.whl\n",
      "Collecting docopt<1,>=0.6.2 (from nbinteract)\n",
      "  Downloading https://files.pythonhosted.org/packages/a2/55/8f8cab2afd404cf578136ef2cc5dfb50baa1761b68c9da1fb1e4eed343c9/docopt-0.6.2.tar.gz\n",
      "Requirement already satisfied: Jinja2<3,>=2.10 in /opt/conda/lib/python3.7/site-packages (from nbinteract) (2.10.1)\n",
      "Requirement already satisfied: nbconvert<6,>=5.3 in /opt/conda/lib/python3.7/site-packages (from nbinteract) (5.5.0)\n",
      "Requirement already satisfied: ipywidgets<8,>=7 in /opt/conda/lib/python3.7/site-packages (from nbinteract) (7.5.1)\n",
      "Requirement already satisfied: numpy<2,>=1 in /opt/conda/lib/python3.7/site-packages (from nbinteract) (1.17.0)\n",
      "Requirement already satisfied: IPython<8,>=6 in /opt/conda/lib/python3.7/site-packages (from nbinteract) (7.7.0)\n",
      "Collecting bqplot<1,>=0.10 (from nbinteract)\n",
      "\u001b[?25l  Downloading https://files.pythonhosted.org/packages/b7/c2/4449c1d05ec005eef244c58474ed09c7a1e30bb67cfece9020f759f69619/bqplot-0.12.1-py2.py3-none-any.whl (4.7MB)\n",
      "\u001b[K     |████████████████████████████████| 4.7MB 5.5MB/s eta 0:00:01\n",
      "\u001b[?25hRequirement already satisfied: nbformat<5,>=4.4.0 in /opt/conda/lib/python3.7/site-packages (from nbinteract) (4.4.0)\n",
      "Requirement already satisfied: traitlets<5,>=4.3 in /opt/conda/lib/python3.7/site-packages (from nbinteract) (4.3.2)\n",
      "Requirement already satisfied: toolz<1,>=0.8 in /opt/conda/lib/python3.7/site-packages (from nbinteract) (0.10.0)\n",
      "Requirement already satisfied: MarkupSafe>=0.23 in /opt/conda/lib/python3.7/site-packages (from Jinja2<3,>=2.10->nbinteract) (1.1.1)\n",
      "Requirement already satisfied: bleach in /opt/conda/lib/python3.7/site-packages (from nbconvert<6,>=5.3->nbinteract) (3.1.0)\n",
      "Requirement already satisfied: mistune>=0.8.1 in /opt/conda/lib/python3.7/site-packages (from nbconvert<6,>=5.3->nbinteract) (0.8.4)\n",
      "Requirement already satisfied: pygments in /opt/conda/lib/python3.7/site-packages (from nbconvert<6,>=5.3->nbinteract) (2.4.2)\n",
      "Requirement already satisfied: entrypoints>=0.2.2 in /opt/conda/lib/python3.7/site-packages (from nbconvert<6,>=5.3->nbinteract) (0.3)\n",
      "Requirement already satisfied: pandocfilters>=1.4.1 in /opt/conda/lib/python3.7/site-packages (from nbconvert<6,>=5.3->nbinteract) (1.4.2)\n",
      "Requirement already satisfied: defusedxml in /opt/conda/lib/python3.7/site-packages (from nbconvert<6,>=5.3->nbinteract) (0.5.0)\n",
      "Requirement already satisfied: jupyter-core in /opt/conda/lib/python3.7/site-packages (from nbconvert<6,>=5.3->nbinteract) (4.4.0)\n",
      "Requirement already satisfied: testpath in /opt/conda/lib/python3.7/site-packages (from nbconvert<6,>=5.3->nbinteract) (0.4.2)\n",
      "Requirement already satisfied: ipykernel>=4.5.1 in /opt/conda/lib/python3.7/site-packages (from ipywidgets<8,>=7->nbinteract) (5.1.1)\n",
      "Requirement already satisfied: widgetsnbextension~=3.5.0 in /opt/conda/lib/python3.7/site-packages (from ipywidgets<8,>=7->nbinteract) (3.5.1)\n",
      "Requirement already satisfied: backcall in /opt/conda/lib/python3.7/site-packages (from IPython<8,>=6->nbinteract) (0.1.0)\n",
      "Requirement already satisfied: pexpect; sys_platform != \"win32\" in /opt/conda/lib/python3.7/site-packages (from IPython<8,>=6->nbinteract) (4.7.0)\n",
      "Requirement already satisfied: jedi>=0.10 in /opt/conda/lib/python3.7/site-packages (from IPython<8,>=6->nbinteract) (0.14.1)\n",
      "Requirement already satisfied: prompt-toolkit<2.1.0,>=2.0.0 in /opt/conda/lib/python3.7/site-packages (from IPython<8,>=6->nbinteract) (2.0.9)\n",
      "Requirement already satisfied: pickleshare in /opt/conda/lib/python3.7/site-packages (from IPython<8,>=6->nbinteract) (0.7.5)\n",
      "Requirement already satisfied: setuptools>=18.5 in /opt/conda/lib/python3.7/site-packages (from IPython<8,>=6->nbinteract) (41.0.1)\n",
      "Requirement already satisfied: decorator in /opt/conda/lib/python3.7/site-packages (from IPython<8,>=6->nbinteract) (4.4.0)\n",
      "Requirement already satisfied: pandas in /opt/conda/lib/python3.7/site-packages (from bqplot<1,>=0.10->nbinteract) (0.25.0)\n",
      "Collecting traittypes>=0.0.6 (from bqplot<1,>=0.10->nbinteract)\n",
      "  Downloading https://files.pythonhosted.org/packages/9c/d1/8d5bd662703cc1764d986f6908a608777305946fa634d34c470cd4a1e729/traittypes-0.2.1-py2.py3-none-any.whl\n",
      "Requirement already satisfied: ipython_genutils in /opt/conda/lib/python3.7/site-packages (from nbformat<5,>=4.4.0->nbinteract) (0.2.0)\n",
      "Requirement already satisfied: jsonschema!=2.5.0,>=2.4 in /opt/conda/lib/python3.7/site-packages (from nbformat<5,>=4.4.0->nbinteract) (3.0.2)\n",
      "Requirement already satisfied: six in /opt/conda/lib/python3.7/site-packages (from traitlets<5,>=4.3->nbinteract) (1.12.0)\n",
      "Requirement already satisfied: webencodings in /opt/conda/lib/python3.7/site-packages (from bleach->nbconvert<6,>=5.3->nbinteract) (0.5.1)\n",
      "Requirement already satisfied: jupyter-client in /opt/conda/lib/python3.7/site-packages (from ipykernel>=4.5.1->ipywidgets<8,>=7->nbinteract) (5.3.1)\n",
      "Requirement already satisfied: tornado>=4.2 in /opt/conda/lib/python3.7/site-packages (from ipykernel>=4.5.1->ipywidgets<8,>=7->nbinteract) (6.0.3)\n",
      "Requirement already satisfied: notebook>=4.4.1 in /opt/conda/lib/python3.7/site-packages (from widgetsnbextension~=3.5.0->ipywidgets<8,>=7->nbinteract) (6.0.0)\n",
      "Requirement already satisfied: ptyprocess>=0.5 in /opt/conda/lib/python3.7/site-packages (from pexpect; sys_platform != \"win32\"->IPython<8,>=6->nbinteract) (0.6.0)\n",
      "Requirement already satisfied: parso>=0.5.0 in /opt/conda/lib/python3.7/site-packages (from jedi>=0.10->IPython<8,>=6->nbinteract) (0.5.1)\n",
      "Requirement already satisfied: wcwidth in /opt/conda/lib/python3.7/site-packages (from prompt-toolkit<2.1.0,>=2.0.0->IPython<8,>=6->nbinteract) (0.1.7)\n",
      "Requirement already satisfied: pytz>=2017.2 in /opt/conda/lib/python3.7/site-packages (from pandas->bqplot<1,>=0.10->nbinteract) (2019.2)\n",
      "Requirement already satisfied: python-dateutil>=2.6.1 in /opt/conda/lib/python3.7/site-packages (from pandas->bqplot<1,>=0.10->nbinteract) (2.8.0)\n",
      "Requirement already satisfied: attrs>=17.4.0 in /opt/conda/lib/python3.7/site-packages (from jsonschema!=2.5.0,>=2.4->nbformat<5,>=4.4.0->nbinteract) (19.1.0)\n",
      "Requirement already satisfied: pyrsistent>=0.14.0 in /opt/conda/lib/python3.7/site-packages (from jsonschema!=2.5.0,>=2.4->nbformat<5,>=4.4.0->nbinteract) (0.15.4)\n",
      "Requirement already satisfied: pyzmq>=13 in /opt/conda/lib/python3.7/site-packages (from jupyter-client->ipykernel>=4.5.1->ipywidgets<8,>=7->nbinteract) (18.0.2)\n",
      "Requirement already satisfied: Send2Trash in /opt/conda/lib/python3.7/site-packages (from notebook>=4.4.1->widgetsnbextension~=3.5.0->ipywidgets<8,>=7->nbinteract) (1.5.0)\n",
      "Requirement already satisfied: terminado>=0.8.1 in /opt/conda/lib/python3.7/site-packages (from notebook>=4.4.1->widgetsnbextension~=3.5.0->ipywidgets<8,>=7->nbinteract) (0.8.2)\n",
      "Requirement already satisfied: prometheus-client in /opt/conda/lib/python3.7/site-packages (from notebook>=4.4.1->widgetsnbextension~=3.5.0->ipywidgets<8,>=7->nbinteract) (0.7.1)\n",
      "Building wheels for collected packages: docopt\n",
      "  Building wheel for docopt (setup.py) ... \u001b[?25ldone\n",
      "\u001b[?25h  Created wheel for docopt: filename=docopt-0.6.2-py2.py3-none-any.whl size=13704 sha256=3972a7ccfeb936bd318cb74440815949ffbbe5704759a322c203b0a04629a585\n",
      "  Stored in directory: /home/jovyan/.cache/pip/wheels/9b/04/dd/7daf4150b6d9b12949298737de9431a324d4b797ffd63f526e\n",
      "Successfully built docopt\n",
      "Installing collected packages: docopt, traittypes, bqplot, nbinteract\n",
      "Successfully installed bqplot-0.12.1 docopt-0.6.2 nbinteract-0.2.4 traittypes-0.2.1\n"
     ]
    }
   ],
   "source": [
    "!pip install nbinteract\n",
    "import nbinteract as nbi\n",
    "import pandas as pd\n",
    "import numpy as np\n",
    "import matplotlib as mpl\n",
    "import matplotlib.pyplot as plt\n",
    "import seaborn as sns\n",
    "import random\n",
    "from ipywidgets import widgets, interactive\n",
    "import statsmodels.formula.api as sm\n",
    "import sklearn as sklearn\n",
    "from sklearn.linear_model import LinearRegression\n",
    "from sklearn import linear_model\n",
    "from scipy import stats"
   ]
  },
  {
   "cell_type": "markdown",
   "metadata": {
    "colab_type": "text",
    "id": "YQNbfoW-SewU"
   },
   "source": [
    "## Dataset Source\n",
    "\n",
    "The dataset used to explore the \"success\" of a film was [IMDB 5000 Movie Dataset](https://www.kaggle.com/carolzhangdc/imdb-5000-movie-dataset#movie_metadata.csv) from Kaggle. The dataset contains 5000+ movies that were scrapped from IMDb. \n",
    "\n",
    "The dataset included detailed information for each movie. The dataset has twenty-eight data categories that hold information such as title, director, main actors, genres, gross, budget, language,and more for each movie. The column headings are very descriptive, giving the users an exact understanding of the data that each column holds. \n",
    "\n",
    "If there are any questions regarding the column headings or the data, additional information can be found [here.](https://www.kaggle.com/carolzhangdc/imdb-5000-movie-dataset#movie_metadata.csv) "
   ]
  },
  {
   "cell_type": "code",
   "execution_count": 2,
   "metadata": {
    "colab": {
     "base_uri": "https://localhost:8080/",
     "height": 360
    },
    "colab_type": "code",
    "id": "0s6TuMeq1Knh",
    "outputId": "16ffe149-8e6e-429d-ebce-4ee314a303bd"
   },
   "outputs": [
    {
     "data": {
      "text/html": [
       "<div>\n",
       "<style scoped>\n",
       "    .dataframe tbody tr th:only-of-type {\n",
       "        vertical-align: middle;\n",
       "    }\n",
       "\n",
       "    .dataframe tbody tr th {\n",
       "        vertical-align: top;\n",
       "    }\n",
       "\n",
       "    .dataframe thead th {\n",
       "        text-align: right;\n",
       "    }\n",
       "</style>\n",
       "<table border=\"1\" class=\"dataframe\">\n",
       "  <thead>\n",
       "    <tr style=\"text-align: right;\">\n",
       "      <th></th>\n",
       "      <th>color</th>\n",
       "      <th>director_name</th>\n",
       "      <th>num_critic_for_reviews</th>\n",
       "      <th>duration</th>\n",
       "      <th>director_facebook_likes</th>\n",
       "      <th>actor_3_facebook_likes</th>\n",
       "      <th>actor_2_name</th>\n",
       "      <th>actor_1_facebook_likes</th>\n",
       "      <th>gross</th>\n",
       "      <th>genres</th>\n",
       "      <th>...</th>\n",
       "      <th>num_user_for_reviews</th>\n",
       "      <th>language</th>\n",
       "      <th>country</th>\n",
       "      <th>content_rating</th>\n",
       "      <th>budget</th>\n",
       "      <th>title_year</th>\n",
       "      <th>actor_2_facebook_likes</th>\n",
       "      <th>imdb_score</th>\n",
       "      <th>aspect_ratio</th>\n",
       "      <th>movie_facebook_likes</th>\n",
       "    </tr>\n",
       "  </thead>\n",
       "  <tbody>\n",
       "    <tr>\n",
       "      <th>0</th>\n",
       "      <td>Color</td>\n",
       "      <td>James Cameron</td>\n",
       "      <td>723.0</td>\n",
       "      <td>178.0</td>\n",
       "      <td>0.0</td>\n",
       "      <td>855.0</td>\n",
       "      <td>Joel David Moore</td>\n",
       "      <td>1000.0</td>\n",
       "      <td>760505847.0</td>\n",
       "      <td>Action|Adventure|Fantasy|Sci-Fi</td>\n",
       "      <td>...</td>\n",
       "      <td>3054.0</td>\n",
       "      <td>English</td>\n",
       "      <td>USA</td>\n",
       "      <td>PG-13</td>\n",
       "      <td>237000000.0</td>\n",
       "      <td>2009.0</td>\n",
       "      <td>936.0</td>\n",
       "      <td>7.9</td>\n",
       "      <td>1.78</td>\n",
       "      <td>33000</td>\n",
       "    </tr>\n",
       "    <tr>\n",
       "      <th>1</th>\n",
       "      <td>Color</td>\n",
       "      <td>Gore Verbinski</td>\n",
       "      <td>302.0</td>\n",
       "      <td>169.0</td>\n",
       "      <td>563.0</td>\n",
       "      <td>1000.0</td>\n",
       "      <td>Orlando Bloom</td>\n",
       "      <td>40000.0</td>\n",
       "      <td>309404152.0</td>\n",
       "      <td>Action|Adventure|Fantasy</td>\n",
       "      <td>...</td>\n",
       "      <td>1238.0</td>\n",
       "      <td>English</td>\n",
       "      <td>USA</td>\n",
       "      <td>PG-13</td>\n",
       "      <td>300000000.0</td>\n",
       "      <td>2007.0</td>\n",
       "      <td>5000.0</td>\n",
       "      <td>7.1</td>\n",
       "      <td>2.35</td>\n",
       "      <td>0</td>\n",
       "    </tr>\n",
       "    <tr>\n",
       "      <th>2</th>\n",
       "      <td>Color</td>\n",
       "      <td>Sam Mendes</td>\n",
       "      <td>602.0</td>\n",
       "      <td>148.0</td>\n",
       "      <td>0.0</td>\n",
       "      <td>161.0</td>\n",
       "      <td>Rory Kinnear</td>\n",
       "      <td>11000.0</td>\n",
       "      <td>200074175.0</td>\n",
       "      <td>Action|Adventure|Thriller</td>\n",
       "      <td>...</td>\n",
       "      <td>994.0</td>\n",
       "      <td>English</td>\n",
       "      <td>UK</td>\n",
       "      <td>PG-13</td>\n",
       "      <td>245000000.0</td>\n",
       "      <td>2015.0</td>\n",
       "      <td>393.0</td>\n",
       "      <td>6.8</td>\n",
       "      <td>2.35</td>\n",
       "      <td>85000</td>\n",
       "    </tr>\n",
       "    <tr>\n",
       "      <th>3</th>\n",
       "      <td>Color</td>\n",
       "      <td>Christopher Nolan</td>\n",
       "      <td>813.0</td>\n",
       "      <td>164.0</td>\n",
       "      <td>22000.0</td>\n",
       "      <td>23000.0</td>\n",
       "      <td>Christian Bale</td>\n",
       "      <td>27000.0</td>\n",
       "      <td>448130642.0</td>\n",
       "      <td>Action|Thriller</td>\n",
       "      <td>...</td>\n",
       "      <td>2701.0</td>\n",
       "      <td>English</td>\n",
       "      <td>USA</td>\n",
       "      <td>PG-13</td>\n",
       "      <td>250000000.0</td>\n",
       "      <td>2012.0</td>\n",
       "      <td>23000.0</td>\n",
       "      <td>8.5</td>\n",
       "      <td>2.35</td>\n",
       "      <td>164000</td>\n",
       "    </tr>\n",
       "    <tr>\n",
       "      <th>4</th>\n",
       "      <td>NaN</td>\n",
       "      <td>Doug Walker</td>\n",
       "      <td>NaN</td>\n",
       "      <td>NaN</td>\n",
       "      <td>131.0</td>\n",
       "      <td>NaN</td>\n",
       "      <td>Rob Walker</td>\n",
       "      <td>131.0</td>\n",
       "      <td>NaN</td>\n",
       "      <td>Documentary</td>\n",
       "      <td>...</td>\n",
       "      <td>NaN</td>\n",
       "      <td>NaN</td>\n",
       "      <td>NaN</td>\n",
       "      <td>NaN</td>\n",
       "      <td>NaN</td>\n",
       "      <td>NaN</td>\n",
       "      <td>12.0</td>\n",
       "      <td>7.1</td>\n",
       "      <td>NaN</td>\n",
       "      <td>0</td>\n",
       "    </tr>\n",
       "  </tbody>\n",
       "</table>\n",
       "<p>5 rows × 28 columns</p>\n",
       "</div>"
      ],
      "text/plain": [
       "   color      director_name  num_critic_for_reviews  duration  \\\n",
       "0  Color      James Cameron                   723.0     178.0   \n",
       "1  Color     Gore Verbinski                   302.0     169.0   \n",
       "2  Color         Sam Mendes                   602.0     148.0   \n",
       "3  Color  Christopher Nolan                   813.0     164.0   \n",
       "4    NaN        Doug Walker                     NaN       NaN   \n",
       "\n",
       "   director_facebook_likes  actor_3_facebook_likes      actor_2_name  \\\n",
       "0                      0.0                   855.0  Joel David Moore   \n",
       "1                    563.0                  1000.0     Orlando Bloom   \n",
       "2                      0.0                   161.0      Rory Kinnear   \n",
       "3                  22000.0                 23000.0    Christian Bale   \n",
       "4                    131.0                     NaN        Rob Walker   \n",
       "\n",
       "   actor_1_facebook_likes        gross                           genres  ...  \\\n",
       "0                  1000.0  760505847.0  Action|Adventure|Fantasy|Sci-Fi  ...   \n",
       "1                 40000.0  309404152.0         Action|Adventure|Fantasy  ...   \n",
       "2                 11000.0  200074175.0        Action|Adventure|Thriller  ...   \n",
       "3                 27000.0  448130642.0                  Action|Thriller  ...   \n",
       "4                   131.0          NaN                      Documentary  ...   \n",
       "\n",
       "  num_user_for_reviews language  country  content_rating       budget  \\\n",
       "0               3054.0  English      USA           PG-13  237000000.0   \n",
       "1               1238.0  English      USA           PG-13  300000000.0   \n",
       "2                994.0  English       UK           PG-13  245000000.0   \n",
       "3               2701.0  English      USA           PG-13  250000000.0   \n",
       "4                  NaN      NaN      NaN             NaN          NaN   \n",
       "\n",
       "   title_year actor_2_facebook_likes imdb_score  aspect_ratio  \\\n",
       "0      2009.0                  936.0        7.9          1.78   \n",
       "1      2007.0                 5000.0        7.1          2.35   \n",
       "2      2015.0                  393.0        6.8          2.35   \n",
       "3      2012.0                23000.0        8.5          2.35   \n",
       "4         NaN                   12.0        7.1           NaN   \n",
       "\n",
       "  movie_facebook_likes  \n",
       "0                33000  \n",
       "1                    0  \n",
       "2                85000  \n",
       "3               164000  \n",
       "4                    0  \n",
       "\n",
       "[5 rows x 28 columns]"
      ]
     },
     "execution_count": 2,
     "metadata": {},
     "output_type": "execute_result"
    }
   ],
   "source": [
    "movies = pd.read_csv('movie_metadata.csv')\n",
    "movies.head()"
   ]
  },
  {
   "cell_type": "markdown",
   "metadata": {
    "colab_type": "text",
    "id": "CkjPAKTuH5LP"
   },
   "source": [
    "## Modifying the Data \n",
    "\n",
    "We decided to remove and filter the data to narrow the variables we focused on. The data was filtered to only include movies from 1945 to 2015. We wanted to look at movies that correspond with the [beginning of advancements](https://historycooperative.org/the-history-of-the-hollywood-movie-industry/) within the film industry that can be comparable to the quality of films of the present day. \n",
    "\n",
    "Also, we decided to remove the columns that did not pertain to the focus of our data exploration. These columns included color, number of critics, number of facebook likes for the director, the number of users voted, total like count for cast members, and more.\n",
    "\n",
    "Included within the dataset were movies that were missing values for columns such as gross, budget, and movie year. These factors were essential in our tutorial as they were used to establish relationships and perform calculations. Any movies that did not include these variables were removed from our dataset."
   ]
  },
  {
   "cell_type": "markdown",
   "metadata": {
    "colab_type": "text",
    "id": "Azcf5-5T1ntc"
   },
   "source": [
    "### Movie Dataset\n",
    "\n"
   ]
  },
  {
   "cell_type": "code",
   "execution_count": 3,
   "metadata": {
    "colab": {
     "base_uri": "https://localhost:8080/",
     "height": 343
    },
    "colab_type": "code",
    "id": "sk9I-2gbVMWU",
    "outputId": "5fa0cfc8-9ac2-487a-ee28-229c16bfb9f2"
   },
   "outputs": [
    {
     "data": {
      "text/html": [
       "<div>\n",
       "<style scoped>\n",
       "    .dataframe tbody tr th:only-of-type {\n",
       "        vertical-align: middle;\n",
       "    }\n",
       "\n",
       "    .dataframe tbody tr th {\n",
       "        vertical-align: top;\n",
       "    }\n",
       "\n",
       "    .dataframe thead th {\n",
       "        text-align: right;\n",
       "    }\n",
       "</style>\n",
       "<table border=\"1\" class=\"dataframe\">\n",
       "  <thead>\n",
       "    <tr style=\"text-align: right;\">\n",
       "      <th></th>\n",
       "      <th>director_name</th>\n",
       "      <th>duration</th>\n",
       "      <th>actor_2_name</th>\n",
       "      <th>gross</th>\n",
       "      <th>genres</th>\n",
       "      <th>actor_1_name</th>\n",
       "      <th>movie_title</th>\n",
       "      <th>actor_3_name</th>\n",
       "      <th>language</th>\n",
       "      <th>country</th>\n",
       "      <th>content_rating</th>\n",
       "      <th>budget</th>\n",
       "      <th>title_year</th>\n",
       "      <th>imdb_score</th>\n",
       "      <th>decades</th>\n",
       "      <th>scores</th>\n",
       "      <th>profit</th>\n",
       "    </tr>\n",
       "  </thead>\n",
       "  <tbody>\n",
       "    <tr>\n",
       "      <th>4238</th>\n",
       "      <td>William Wyler</td>\n",
       "      <td>172.0</td>\n",
       "      <td>Teresa Wright</td>\n",
       "      <td>23650000.0</td>\n",
       "      <td>Drama|Romance|War</td>\n",
       "      <td>Myrna Loy</td>\n",
       "      <td>The Best Years of Our Lives</td>\n",
       "      <td>Dana Andrews</td>\n",
       "      <td>English</td>\n",
       "      <td>USA</td>\n",
       "      <td>Not Rated</td>\n",
       "      <td>2100000.0</td>\n",
       "      <td>1946.0</td>\n",
       "      <td>8.1</td>\n",
       "      <td>1940-1949</td>\n",
       "      <td>(7.9, 8.6]</td>\n",
       "      <td>21550000.0</td>\n",
       "    </tr>\n",
       "    <tr>\n",
       "      <th>3596</th>\n",
       "      <td>King Vidor</td>\n",
       "      <td>144.0</td>\n",
       "      <td>Lillian Gish</td>\n",
       "      <td>20400000.0</td>\n",
       "      <td>Drama|Romance|Western</td>\n",
       "      <td>Joseph Cotten</td>\n",
       "      <td>Duel in the Sun</td>\n",
       "      <td>Jennifer Jones</td>\n",
       "      <td>English</td>\n",
       "      <td>USA</td>\n",
       "      <td>Unrated</td>\n",
       "      <td>8000000.0</td>\n",
       "      <td>1946.0</td>\n",
       "      <td>6.9</td>\n",
       "      <td>1940-1949</td>\n",
       "      <td>(6.5, 7.2]</td>\n",
       "      <td>12400000.0</td>\n",
       "    </tr>\n",
       "    <tr>\n",
       "      <th>4328</th>\n",
       "      <td>Orson Welles</td>\n",
       "      <td>92.0</td>\n",
       "      <td>Everett Sloane</td>\n",
       "      <td>7927.0</td>\n",
       "      <td>Crime|Drama|Film-Noir|Mystery|Thriller</td>\n",
       "      <td>Rita Hayworth</td>\n",
       "      <td>The Lady from Shanghai</td>\n",
       "      <td>Ted de Corsia</td>\n",
       "      <td>English</td>\n",
       "      <td>USA</td>\n",
       "      <td>Not Rated</td>\n",
       "      <td>2300000.0</td>\n",
       "      <td>1947.0</td>\n",
       "      <td>7.7</td>\n",
       "      <td>1940-1949</td>\n",
       "      <td>(7.2, 7.9]</td>\n",
       "      <td>-2292073.0</td>\n",
       "    </tr>\n",
       "    <tr>\n",
       "      <th>3978</th>\n",
       "      <td>Vincente Minnelli</td>\n",
       "      <td>102.0</td>\n",
       "      <td>Reginald Owen</td>\n",
       "      <td>2956000.0</td>\n",
       "      <td>Adventure|Comedy|Musical|Romance</td>\n",
       "      <td>Gladys Cooper</td>\n",
       "      <td>The Pirate</td>\n",
       "      <td>Ellen Ross</td>\n",
       "      <td>English</td>\n",
       "      <td>USA</td>\n",
       "      <td>Approved</td>\n",
       "      <td>3700000.0</td>\n",
       "      <td>1948.0</td>\n",
       "      <td>7.1</td>\n",
       "      <td>1940-1949</td>\n",
       "      <td>(6.5, 7.2]</td>\n",
       "      <td>-744000.0</td>\n",
       "    </tr>\n",
       "    <tr>\n",
       "      <th>3974</th>\n",
       "      <td>George Sidney</td>\n",
       "      <td>107.0</td>\n",
       "      <td>Howard Keel</td>\n",
       "      <td>8000000.0</td>\n",
       "      <td>Biography|Comedy|Musical|Romance|Western</td>\n",
       "      <td>Keenan Wynn</td>\n",
       "      <td>Annie Get Your Gun</td>\n",
       "      <td>Betty Hutton</td>\n",
       "      <td>English</td>\n",
       "      <td>USA</td>\n",
       "      <td>Passed</td>\n",
       "      <td>3768785.0</td>\n",
       "      <td>1950.0</td>\n",
       "      <td>7.0</td>\n",
       "      <td>1950 - 1959</td>\n",
       "      <td>(6.5, 7.2]</td>\n",
       "      <td>4231215.0</td>\n",
       "    </tr>\n",
       "  </tbody>\n",
       "</table>\n",
       "</div>"
      ],
      "text/plain": [
       "          director_name  duration    actor_2_name       gross  \\\n",
       "4238      William Wyler     172.0   Teresa Wright  23650000.0   \n",
       "3596         King Vidor     144.0    Lillian Gish  20400000.0   \n",
       "4328       Orson Welles      92.0  Everett Sloane      7927.0   \n",
       "3978  Vincente Minnelli     102.0   Reginald Owen   2956000.0   \n",
       "3974      George Sidney     107.0     Howard Keel   8000000.0   \n",
       "\n",
       "                                        genres   actor_1_name  \\\n",
       "4238                         Drama|Romance|War      Myrna Loy   \n",
       "3596                     Drama|Romance|Western  Joseph Cotten   \n",
       "4328    Crime|Drama|Film-Noir|Mystery|Thriller  Rita Hayworth   \n",
       "3978          Adventure|Comedy|Musical|Romance  Gladys Cooper   \n",
       "3974  Biography|Comedy|Musical|Romance|Western    Keenan Wynn   \n",
       "\n",
       "                       movie_title    actor_3_name language country  \\\n",
       "4238  The Best Years of Our Lives     Dana Andrews  English     USA   \n",
       "3596              Duel in the Sun   Jennifer Jones  English     USA   \n",
       "4328       The Lady from Shanghai    Ted de Corsia  English     USA   \n",
       "3978                   The Pirate       Ellen Ross  English     USA   \n",
       "3974           Annie Get Your Gun     Betty Hutton  English     USA   \n",
       "\n",
       "     content_rating     budget  title_year  imdb_score      decades  \\\n",
       "4238      Not Rated  2100000.0      1946.0         8.1    1940-1949   \n",
       "3596        Unrated  8000000.0      1946.0         6.9    1940-1949   \n",
       "4328      Not Rated  2300000.0      1947.0         7.7    1940-1949   \n",
       "3978       Approved  3700000.0      1948.0         7.1    1940-1949   \n",
       "3974         Passed  3768785.0      1950.0         7.0  1950 - 1959   \n",
       "\n",
       "          scores      profit  \n",
       "4238  (7.9, 8.6]  21550000.0  \n",
       "3596  (6.5, 7.2]  12400000.0  \n",
       "4328  (7.2, 7.9]  -2292073.0  \n",
       "3978  (6.5, 7.2]   -744000.0  \n",
       "3974  (6.5, 7.2]   4231215.0  "
      ]
     },
     "execution_count": 3,
     "metadata": {},
     "output_type": "execute_result"
    }
   ],
   "source": [
    "#Dropped all attributes of the dataset that we are not concerned about\n",
    "movies = movies.drop(columns = ['color', 'num_critic_for_reviews', \n",
    "                                'director_facebook_likes', \n",
    "                                'actor_1_facebook_likes', 'num_voted_users', \n",
    "                                'cast_total_facebook_likes', \n",
    "                                'actor_3_facebook_likes', \n",
    "                                'facenumber_in_poster', 'plot_keywords', \n",
    "                                'movie_imdb_link', 'num_user_for_reviews', \n",
    "                                'actor_2_facebook_likes', 'aspect_ratio', \n",
    "                                'movie_facebook_likes'])\n",
    "# Drop all rows where either the gross, budget, and/or title_year are undefined\n",
    "movies = movies.dropna(subset = ['gross'])\n",
    "movies = movies.dropna(subset = ['budget'])\n",
    "movies = movies.dropna(subset = ['title_year'])\n",
    "# Sort the dataset by the title years so the oldest movies show up first and \n",
    "# the newest last\n",
    "movies = movies.sort_values(by = ['title_year'])\n",
    "# Dropping rows where the movie's title years are not within 1945-2015\n",
    "movies = movies[movies.title_year > 1944]\n",
    "movies = movies[movies.title_year < 2016]\n",
    "periods = ['1940-1949', '1950 - 1959', '1960- 1969', '1970 - 1979',\n",
    "           '1980 - 1989', '1990 - 1999', '2000 - 2009', '2010 - 2019']\n",
    "movies['decades'] = pd.cut(movies['title_year'], bins=[1939, 1949, 1959, 1969, \n",
    "                                                       1979, 1989, 1999, 2009, \n",
    "                                                       2019], labels=periods)\n",
    "movies['scores'] = pd.cut(movies['imdb_score'], bins = 11)\n",
    "# Created a profit column so we can see how well received the movie was\n",
    "movies['profit'] = movies['gross'] - movies['budget']\n",
    "movies.head()"
   ]
  },
  {
   "cell_type": "markdown",
   "metadata": {
    "colab_type": "text",
    "id": "5mJVcSqTB6np"
   },
   "source": [
    "### Director-Movie Count Dataset"
   ]
  },
  {
   "cell_type": "markdown",
   "metadata": {
    "colab_type": "text",
    "id": "0QZlzcNMCkNl"
   },
   "source": [
    "To provide more data analysis for the movie dataset, we decided to look at the relationship between directors and their films within the main movie dataset. \n",
    "\n",
    "Below is a dataset that includes the number of movies for thirty popular movie directors. We chose these thirty directors based on [IMDb's list of most popular directors](https://www.imdb.com/list/ls052380992/), as well as our own bias. \n",
    "\n",
    "As we can see, Steven Spielberg, Woody Allen, and Clint Eastwood directed the most movies. Alfred Hitchcock, Joon-ho Bong, Ryan Coogler, and Ava DuVernay directed the least. However, these factors can be due to the fact we had to trim our dataset to remove films that had no gross, budget, or title year. Not only that, but with directors that were more active in the 50s and 60s like Alfred Hitchcock, it is very possible that some of his movies were cut from our dataset. As for directors like Ava DuVernay and Ryan Coogler, they only began directing in 2012 and 2013, respectively, thus having fewer movies present on the dataset."
   ]
  },
  {
   "cell_type": "code",
   "execution_count": 4,
   "metadata": {
    "colab": {
     "base_uri": "https://localhost:8080/",
     "height": 979
    },
    "colab_type": "code",
    "id": "R76WDZL9Bz6W",
    "outputId": "b5ef0cc1-cc64-4062-ac86-587c1a0db3f1"
   },
   "outputs": [
    {
     "data": {
      "text/html": [
       "<div>\n",
       "<style scoped>\n",
       "    .dataframe tbody tr th:only-of-type {\n",
       "        vertical-align: middle;\n",
       "    }\n",
       "\n",
       "    .dataframe tbody tr th {\n",
       "        vertical-align: top;\n",
       "    }\n",
       "\n",
       "    .dataframe thead th {\n",
       "        text-align: right;\n",
       "    }\n",
       "</style>\n",
       "<table border=\"1\" class=\"dataframe\">\n",
       "  <thead>\n",
       "    <tr style=\"text-align: right;\">\n",
       "      <th></th>\n",
       "      <th>Director</th>\n",
       "      <th>Movie Count</th>\n",
       "    </tr>\n",
       "  </thead>\n",
       "  <tbody>\n",
       "    <tr>\n",
       "      <th>12</th>\n",
       "      <td>Alfred Hitchcock</td>\n",
       "      <td>1</td>\n",
       "    </tr>\n",
       "    <tr>\n",
       "      <th>21</th>\n",
       "      <td>Ava DuVernay</td>\n",
       "      <td>2</td>\n",
       "    </tr>\n",
       "    <tr>\n",
       "      <th>23</th>\n",
       "      <td>Joon-ho Bong</td>\n",
       "      <td>2</td>\n",
       "    </tr>\n",
       "    <tr>\n",
       "      <th>22</th>\n",
       "      <td>Ryan Coogler</td>\n",
       "      <td>2</td>\n",
       "    </tr>\n",
       "    <tr>\n",
       "      <th>25</th>\n",
       "      <td>Lee Daniels</td>\n",
       "      <td>3</td>\n",
       "    </tr>\n",
       "    <tr>\n",
       "      <th>11</th>\n",
       "      <td>Joel Coen</td>\n",
       "      <td>4</td>\n",
       "    </tr>\n",
       "    <tr>\n",
       "      <th>10</th>\n",
       "      <td>Frank Darabont</td>\n",
       "      <td>4</td>\n",
       "    </tr>\n",
       "    <tr>\n",
       "      <th>19</th>\n",
       "      <td>Roman Polanski</td>\n",
       "      <td>4</td>\n",
       "    </tr>\n",
       "    <tr>\n",
       "      <th>24</th>\n",
       "      <td>George Lucas</td>\n",
       "      <td>5</td>\n",
       "    </tr>\n",
       "    <tr>\n",
       "      <th>28</th>\n",
       "      <td>James Wan</td>\n",
       "      <td>6</td>\n",
       "    </tr>\n",
       "    <tr>\n",
       "      <th>18</th>\n",
       "      <td>Darren Aronofsky</td>\n",
       "      <td>6</td>\n",
       "    </tr>\n",
       "    <tr>\n",
       "      <th>15</th>\n",
       "      <td>James Cameron</td>\n",
       "      <td>7</td>\n",
       "    </tr>\n",
       "    <tr>\n",
       "      <th>29</th>\n",
       "      <td>Roland Emmerich</td>\n",
       "      <td>7</td>\n",
       "    </tr>\n",
       "    <tr>\n",
       "      <th>26</th>\n",
       "      <td>Ang Lee</td>\n",
       "      <td>8</td>\n",
       "    </tr>\n",
       "    <tr>\n",
       "      <th>2</th>\n",
       "      <td>Quentin Tarantino</td>\n",
       "      <td>8</td>\n",
       "    </tr>\n",
       "    <tr>\n",
       "      <th>13</th>\n",
       "      <td>Sam Mendes</td>\n",
       "      <td>8</td>\n",
       "    </tr>\n",
       "    <tr>\n",
       "      <th>1</th>\n",
       "      <td>Christopher Nolan</td>\n",
       "      <td>8</td>\n",
       "    </tr>\n",
       "    <tr>\n",
       "      <th>14</th>\n",
       "      <td>Danny Boyle</td>\n",
       "      <td>9</td>\n",
       "    </tr>\n",
       "    <tr>\n",
       "      <th>8</th>\n",
       "      <td>Francis Ford Coppola</td>\n",
       "      <td>9</td>\n",
       "    </tr>\n",
       "    <tr>\n",
       "      <th>4</th>\n",
       "      <td>David Fincher</td>\n",
       "      <td>10</td>\n",
       "    </tr>\n",
       "    <tr>\n",
       "      <th>27</th>\n",
       "      <td>Chris Columbus</td>\n",
       "      <td>11</td>\n",
       "    </tr>\n",
       "    <tr>\n",
       "      <th>16</th>\n",
       "      <td>Ron Howard</td>\n",
       "      <td>13</td>\n",
       "    </tr>\n",
       "    <tr>\n",
       "      <th>6</th>\n",
       "      <td>Robert Zemeckis</td>\n",
       "      <td>13</td>\n",
       "    </tr>\n",
       "    <tr>\n",
       "      <th>20</th>\n",
       "      <td>Spike Lee</td>\n",
       "      <td>15</td>\n",
       "    </tr>\n",
       "    <tr>\n",
       "      <th>3</th>\n",
       "      <td>Martin Scorsese</td>\n",
       "      <td>16</td>\n",
       "    </tr>\n",
       "    <tr>\n",
       "      <th>17</th>\n",
       "      <td>Tim Burton</td>\n",
       "      <td>16</td>\n",
       "    </tr>\n",
       "    <tr>\n",
       "      <th>7</th>\n",
       "      <td>Ridley Scott</td>\n",
       "      <td>17</td>\n",
       "    </tr>\n",
       "    <tr>\n",
       "      <th>9</th>\n",
       "      <td>Clint Eastwood</td>\n",
       "      <td>19</td>\n",
       "    </tr>\n",
       "    <tr>\n",
       "      <th>5</th>\n",
       "      <td>Woody Allen</td>\n",
       "      <td>19</td>\n",
       "    </tr>\n",
       "    <tr>\n",
       "      <th>0</th>\n",
       "      <td>Steven Spielberg</td>\n",
       "      <td>24</td>\n",
       "    </tr>\n",
       "  </tbody>\n",
       "</table>\n",
       "</div>"
      ],
      "text/plain": [
       "                Director  Movie Count\n",
       "12      Alfred Hitchcock            1\n",
       "21          Ava DuVernay            2\n",
       "23          Joon-ho Bong            2\n",
       "22          Ryan Coogler            2\n",
       "25           Lee Daniels            3\n",
       "11             Joel Coen            4\n",
       "10        Frank Darabont            4\n",
       "19        Roman Polanski            4\n",
       "24          George Lucas            5\n",
       "28             James Wan            6\n",
       "18      Darren Aronofsky            6\n",
       "15         James Cameron            7\n",
       "29       Roland Emmerich            7\n",
       "26               Ang Lee            8\n",
       "2      Quentin Tarantino            8\n",
       "13            Sam Mendes            8\n",
       "1      Christopher Nolan            8\n",
       "14           Danny Boyle            9\n",
       "8   Francis Ford Coppola            9\n",
       "4          David Fincher           10\n",
       "27        Chris Columbus           11\n",
       "16            Ron Howard           13\n",
       "6        Robert Zemeckis           13\n",
       "20             Spike Lee           15\n",
       "3        Martin Scorsese           16\n",
       "17            Tim Burton           16\n",
       "7           Ridley Scott           17\n",
       "9         Clint Eastwood           19\n",
       "5            Woody Allen           19\n",
       "0       Steven Spielberg           24"
      ]
     },
     "execution_count": 4,
     "metadata": {},
     "output_type": "execute_result"
    }
   ],
   "source": [
    "# Create a temporary data structure to hold the popular directors\n",
    "dList = ['Steven Spielberg', 'Christopher Nolan', 'Quentin Tarantino', \n",
    "         'Martin Scorsese', 'David Fincher', 'Woody Allen', 'Robert Zemeckis', \n",
    "         'Ridley Scott', 'Francis Ford Coppola', 'Clint Eastwood', \n",
    "         'Frank Darabont', 'Joel Coen', 'Alfred Hitchcock', 'Sam Mendes', \n",
    "         'Danny Boyle', 'James Cameron', 'Ron Howard', 'Tim Burton', \n",
    "         'Darren Aronofsky', 'Roman Polanski', 'Spike Lee', 'Ava DuVernay', \n",
    "         'Ryan Coogler', 'Joon-ho Bong', 'George Lucas', 'Lee Daniels', \n",
    "         'Ang Lee', 'Chris Columbus', 'James Wan', 'Roland Emmerich']\n",
    "\n",
    "# Create the director count per movie using the movies dataframe \n",
    "mc_d = {}\n",
    "for director in dList: \n",
    "  for (i, row) in movies.iterrows():\n",
    "    if director in row['director_name']:\n",
    "      mc_d[director] = mc_d.get(director, 0) + 1\n",
    "\n",
    "# Aesthetic of the dataframe \n",
    "mc_d = pd.DataFrame.from_dict(mc_d, orient='index')\n",
    "mc_d = mc_d.reset_index()\n",
    "mc_d.columns = ['Director', 'Movie Count']\n",
    "mc_d = mc_d.sort_values(by = ['Movie Count'])\n",
    "mc_d"
   ]
  },
  {
   "cell_type": "markdown",
   "metadata": {
    "colab_type": "text",
    "id": "CGmuIz4qCCP3"
   },
   "source": [
    "### Director Dataset"
   ]
  },
  {
   "cell_type": "markdown",
   "metadata": {
    "colab_type": "text",
    "id": "hnD-m6mvECCx"
   },
   "source": [
    "This dataset leaves only the rows of the thirty popular directors."
   ]
  },
  {
   "cell_type": "code",
   "execution_count": 5,
   "metadata": {
    "colab": {
     "base_uri": "https://localhost:8080/",
     "height": 309
    },
    "colab_type": "code",
    "id": "Qjxq3heYB1Pv",
    "outputId": "fe32609c-d0e8-4aec-d0dc-86b3939afb48"
   },
   "outputs": [
    {
     "data": {
      "text/html": [
       "<div>\n",
       "<style scoped>\n",
       "    .dataframe tbody tr th:only-of-type {\n",
       "        vertical-align: middle;\n",
       "    }\n",
       "\n",
       "    .dataframe tbody tr th {\n",
       "        vertical-align: top;\n",
       "    }\n",
       "\n",
       "    .dataframe thead th {\n",
       "        text-align: right;\n",
       "    }\n",
       "</style>\n",
       "<table border=\"1\" class=\"dataframe\">\n",
       "  <thead>\n",
       "    <tr style=\"text-align: right;\">\n",
       "      <th></th>\n",
       "      <th>director_name</th>\n",
       "      <th>duration</th>\n",
       "      <th>actor_2_name</th>\n",
       "      <th>gross</th>\n",
       "      <th>genres</th>\n",
       "      <th>actor_1_name</th>\n",
       "      <th>movie_title</th>\n",
       "      <th>actor_3_name</th>\n",
       "      <th>language</th>\n",
       "      <th>country</th>\n",
       "      <th>content_rating</th>\n",
       "      <th>budget</th>\n",
       "      <th>title_year</th>\n",
       "      <th>imdb_score</th>\n",
       "      <th>decades</th>\n",
       "      <th>scores</th>\n",
       "      <th>profit</th>\n",
       "    </tr>\n",
       "  </thead>\n",
       "  <tbody>\n",
       "    <tr>\n",
       "      <th>2242</th>\n",
       "      <td>Alfred Hitchcock</td>\n",
       "      <td>108.0</td>\n",
       "      <td>Vera Miles</td>\n",
       "      <td>32000000.0</td>\n",
       "      <td>Horror|Mystery|Thriller</td>\n",
       "      <td>Janet Leigh</td>\n",
       "      <td>Psycho</td>\n",
       "      <td>John Gavin</td>\n",
       "      <td>English</td>\n",
       "      <td>USA</td>\n",
       "      <td>R</td>\n",
       "      <td>806947.0</td>\n",
       "      <td>1960.0</td>\n",
       "      <td>8.5</td>\n",
       "      <td>1960- 1969</td>\n",
       "      <td>(7.9, 8.6]</td>\n",
       "      <td>31193053.0</td>\n",
       "    </tr>\n",
       "    <tr>\n",
       "      <th>1506</th>\n",
       "      <td>Ang Lee</td>\n",
       "      <td>148.0</td>\n",
       "      <td>Jeffrey Dover</td>\n",
       "      <td>630779.0</td>\n",
       "      <td>Drama|Romance|War|Western</td>\n",
       "      <td>Jeremy W. Auman</td>\n",
       "      <td>Ride with the Devil</td>\n",
       "      <td>Tobey Maguire</td>\n",
       "      <td>English</td>\n",
       "      <td>USA</td>\n",
       "      <td>R</td>\n",
       "      <td>35000000.0</td>\n",
       "      <td>1999.0</td>\n",
       "      <td>6.8</td>\n",
       "      <td>1990 - 1999</td>\n",
       "      <td>(6.5, 7.2]</td>\n",
       "      <td>-34369221.0</td>\n",
       "    </tr>\n",
       "    <tr>\n",
       "      <th>2442</th>\n",
       "      <td>Ang Lee</td>\n",
       "      <td>112.0</td>\n",
       "      <td>Kate Burton</td>\n",
       "      <td>7837632.0</td>\n",
       "      <td>Drama</td>\n",
       "      <td>Joan Allen</td>\n",
       "      <td>The Ice Storm</td>\n",
       "      <td>Henry Czerny</td>\n",
       "      <td>English</td>\n",
       "      <td>USA</td>\n",
       "      <td>R</td>\n",
       "      <td>18000000.0</td>\n",
       "      <td>1997.0</td>\n",
       "      <td>7.5</td>\n",
       "      <td>1990 - 1999</td>\n",
       "      <td>(7.2, 7.9]</td>\n",
       "      <td>-10162368.0</td>\n",
       "    </tr>\n",
       "    <tr>\n",
       "      <th>223</th>\n",
       "      <td>Ang Lee</td>\n",
       "      <td>127.0</td>\n",
       "      <td>Rafe Spall</td>\n",
       "      <td>124976634.0</td>\n",
       "      <td>Adventure|Drama|Fantasy</td>\n",
       "      <td>Suraj Sharma</td>\n",
       "      <td>Life of Pi</td>\n",
       "      <td>Tabu</td>\n",
       "      <td>English</td>\n",
       "      <td>USA</td>\n",
       "      <td>PG</td>\n",
       "      <td>120000000.0</td>\n",
       "      <td>2012.0</td>\n",
       "      <td>8.0</td>\n",
       "      <td>2010 - 2019</td>\n",
       "      <td>(7.9, 8.6]</td>\n",
       "      <td>4976634.0</td>\n",
       "    </tr>\n",
       "    <tr>\n",
       "      <th>167</th>\n",
       "      <td>Ang Lee</td>\n",
       "      <td>138.0</td>\n",
       "      <td>Regi Davis</td>\n",
       "      <td>132122995.0</td>\n",
       "      <td>Action|Sci-Fi</td>\n",
       "      <td>Kevin Rankin</td>\n",
       "      <td>Hulk</td>\n",
       "      <td>Celia Weston</td>\n",
       "      <td>English</td>\n",
       "      <td>USA</td>\n",
       "      <td>PG-13</td>\n",
       "      <td>137000000.0</td>\n",
       "      <td>2003.0</td>\n",
       "      <td>5.7</td>\n",
       "      <td>2000 - 2009</td>\n",
       "      <td>(5.1, 5.8]</td>\n",
       "      <td>-4877005.0</td>\n",
       "    </tr>\n",
       "  </tbody>\n",
       "</table>\n",
       "</div>"
      ],
      "text/plain": [
       "         director_name  duration   actor_2_name        gross  \\\n",
       "2242  Alfred Hitchcock     108.0     Vera Miles   32000000.0   \n",
       "1506           Ang Lee     148.0  Jeffrey Dover     630779.0   \n",
       "2442           Ang Lee     112.0    Kate Burton    7837632.0   \n",
       "223            Ang Lee     127.0     Rafe Spall  124976634.0   \n",
       "167            Ang Lee     138.0     Regi Davis  132122995.0   \n",
       "\n",
       "                         genres     actor_1_name           movie_title  \\\n",
       "2242    Horror|Mystery|Thriller      Janet Leigh               Psycho    \n",
       "1506  Drama|Romance|War|Western  Jeremy W. Auman  Ride with the Devil    \n",
       "2442                      Drama       Joan Allen        The Ice Storm    \n",
       "223     Adventure|Drama|Fantasy     Suraj Sharma           Life of Pi    \n",
       "167               Action|Sci-Fi     Kevin Rankin                 Hulk    \n",
       "\n",
       "       actor_3_name language country content_rating       budget  title_year  \\\n",
       "2242     John Gavin  English     USA              R     806947.0      1960.0   \n",
       "1506  Tobey Maguire  English     USA              R   35000000.0      1999.0   \n",
       "2442   Henry Czerny  English     USA              R   18000000.0      1997.0   \n",
       "223            Tabu  English     USA             PG  120000000.0      2012.0   \n",
       "167    Celia Weston  English     USA          PG-13  137000000.0      2003.0   \n",
       "\n",
       "      imdb_score      decades      scores      profit  \n",
       "2242         8.5   1960- 1969  (7.9, 8.6]  31193053.0  \n",
       "1506         6.8  1990 - 1999  (6.5, 7.2] -34369221.0  \n",
       "2442         7.5  1990 - 1999  (7.2, 7.9] -10162368.0  \n",
       "223          8.0  2010 - 2019  (7.9, 8.6]   4976634.0  \n",
       "167          5.7  2000 - 2009  (5.1, 5.8]  -4877005.0  "
      ]
     },
     "execution_count": 5,
     "metadata": {},
     "output_type": "execute_result"
    }
   ],
   "source": [
    "# Create a new dataframe that is sorted by director, but also cut out directors \n",
    "# that we are not focusing on\n",
    "table = movies.sort_values(by = ['director_name'])\n",
    "directors = table[table.director_name.isin(mc_d['Director'])]\n",
    "directors.head()"
   ]
  },
  {
   "cell_type": "markdown",
   "metadata": {
    "colab_type": "text",
    "id": "MHZePwkFh1zE"
   },
   "source": [
    "### Genre-Movie Count Dataset\n",
    "This dataframe was used to determine the amount of movies that were in each genre within the current movie dataset.\n"
   ]
  },
  {
   "cell_type": "code",
   "execution_count": 6,
   "metadata": {
    "colab": {
     "base_uri": "https://localhost:8080/",
     "height": 762
    },
    "colab_type": "code",
    "id": "w0pCZtctHWvZ",
    "outputId": "8beac93e-b75d-41da-f5b3-de31f0bd87aa"
   },
   "outputs": [
    {
     "data": {
      "text/html": [
       "<div>\n",
       "<style scoped>\n",
       "    .dataframe tbody tr th:only-of-type {\n",
       "        vertical-align: middle;\n",
       "    }\n",
       "\n",
       "    .dataframe tbody tr th {\n",
       "        vertical-align: top;\n",
       "    }\n",
       "\n",
       "    .dataframe thead th {\n",
       "        text-align: right;\n",
       "    }\n",
       "</style>\n",
       "<table border=\"1\" class=\"dataframe\">\n",
       "  <thead>\n",
       "    <tr style=\"text-align: right;\">\n",
       "      <th></th>\n",
       "      <th>Genre</th>\n",
       "      <th>Movie Count</th>\n",
       "    </tr>\n",
       "  </thead>\n",
       "  <tbody>\n",
       "    <tr>\n",
       "      <th>0</th>\n",
       "      <td>Action</td>\n",
       "      <td>934</td>\n",
       "    </tr>\n",
       "    <tr>\n",
       "      <th>1</th>\n",
       "      <td>Adventure</td>\n",
       "      <td>770</td>\n",
       "    </tr>\n",
       "    <tr>\n",
       "      <th>2</th>\n",
       "      <td>Animation</td>\n",
       "      <td>193</td>\n",
       "    </tr>\n",
       "    <tr>\n",
       "      <th>3</th>\n",
       "      <td>Biography</td>\n",
       "      <td>239</td>\n",
       "    </tr>\n",
       "    <tr>\n",
       "      <th>4</th>\n",
       "      <td>Comedy</td>\n",
       "      <td>1482</td>\n",
       "    </tr>\n",
       "    <tr>\n",
       "      <th>5</th>\n",
       "      <td>Crime</td>\n",
       "      <td>710</td>\n",
       "    </tr>\n",
       "    <tr>\n",
       "      <th>6</th>\n",
       "      <td>Documentary</td>\n",
       "      <td>67</td>\n",
       "    </tr>\n",
       "    <tr>\n",
       "      <th>7</th>\n",
       "      <td>Drama</td>\n",
       "      <td>1932</td>\n",
       "    </tr>\n",
       "    <tr>\n",
       "      <th>8</th>\n",
       "      <td>Family</td>\n",
       "      <td>439</td>\n",
       "    </tr>\n",
       "    <tr>\n",
       "      <th>9</th>\n",
       "      <td>Fantasy</td>\n",
       "      <td>503</td>\n",
       "    </tr>\n",
       "    <tr>\n",
       "      <th>10</th>\n",
       "      <td>Film-Noir</td>\n",
       "      <td>1</td>\n",
       "    </tr>\n",
       "    <tr>\n",
       "      <th>11</th>\n",
       "      <td>History</td>\n",
       "      <td>153</td>\n",
       "    </tr>\n",
       "    <tr>\n",
       "      <th>12</th>\n",
       "      <td>Horror</td>\n",
       "      <td>388</td>\n",
       "    </tr>\n",
       "    <tr>\n",
       "      <th>13</th>\n",
       "      <td>Music</td>\n",
       "      <td>243</td>\n",
       "    </tr>\n",
       "    <tr>\n",
       "      <th>14</th>\n",
       "      <td>Musical</td>\n",
       "      <td>97</td>\n",
       "    </tr>\n",
       "    <tr>\n",
       "      <th>15</th>\n",
       "      <td>Mystery</td>\n",
       "      <td>380</td>\n",
       "    </tr>\n",
       "    <tr>\n",
       "      <th>16</th>\n",
       "      <td>Romance</td>\n",
       "      <td>876</td>\n",
       "    </tr>\n",
       "    <tr>\n",
       "      <th>17</th>\n",
       "      <td>Sci-Fi</td>\n",
       "      <td>483</td>\n",
       "    </tr>\n",
       "    <tr>\n",
       "      <th>18</th>\n",
       "      <td>Short</td>\n",
       "      <td>2</td>\n",
       "    </tr>\n",
       "    <tr>\n",
       "      <th>19</th>\n",
       "      <td>Sport</td>\n",
       "      <td>150</td>\n",
       "    </tr>\n",
       "    <tr>\n",
       "      <th>20</th>\n",
       "      <td>Thriller</td>\n",
       "      <td>1110</td>\n",
       "    </tr>\n",
       "    <tr>\n",
       "      <th>21</th>\n",
       "      <td>War</td>\n",
       "      <td>158</td>\n",
       "    </tr>\n",
       "    <tr>\n",
       "      <th>22</th>\n",
       "      <td>Western</td>\n",
       "      <td>61</td>\n",
       "    </tr>\n",
       "  </tbody>\n",
       "</table>\n",
       "</div>"
      ],
      "text/plain": [
       "          Genre  Movie Count\n",
       "0        Action          934\n",
       "1     Adventure          770\n",
       "2     Animation          193\n",
       "3     Biography          239\n",
       "4        Comedy         1482\n",
       "5         Crime          710\n",
       "6   Documentary           67\n",
       "7         Drama         1932\n",
       "8        Family          439\n",
       "9       Fantasy          503\n",
       "10    Film-Noir            1\n",
       "11      History          153\n",
       "12       Horror          388\n",
       "13        Music          243\n",
       "14      Musical           97\n",
       "15      Mystery          380\n",
       "16      Romance          876\n",
       "17       Sci-Fi          483\n",
       "18        Short            2\n",
       "19        Sport          150\n",
       "20     Thriller         1110\n",
       "21          War          158\n",
       "22      Western           61"
      ]
     },
     "execution_count": 6,
     "metadata": {},
     "output_type": "execute_result"
    }
   ],
   "source": [
    "# This is a list of all the genres noted in the movies dataframe \n",
    "glist = movies['genres'].unique()\n",
    "new_list= []\n",
    "\n",
    "# Separates the list to the individual genres\n",
    "for line in glist:\n",
    "  item = line.split('|')\n",
    "  new_list.extend(item)\n",
    "\n",
    "# Make the individual genres unique\n",
    "x = np.array(new_list)\n",
    "genre_list = np.unique(x).tolist()\n",
    "\n",
    "mc_genre = {}\n",
    "\n",
    "# Create the genre count per movie using the movies dataframe \n",
    "for genre in genre_list: \n",
    "  for (i, row) in movies.iterrows():\n",
    "    if genre in row['genres']:\n",
    "      mc_genre[genre] = mc_genre.get(genre, 0) + 1\n",
    "\n",
    "\n",
    "# Aesthetic of the dataframe \n",
    "mc_genre = pd.DataFrame.from_dict(mc_genre, orient='index')\n",
    "mc_genre = mc_genre.reset_index()\n",
    "mc_genre.columns = ['Genre', 'Movie Count']\n",
    "mc_genre"
   ]
  },
  {
   "cell_type": "markdown",
   "metadata": {
    "colab_type": "text",
    "id": "KaFikuDRHKSa"
   },
   "source": [
    "### Genre-Profit Dataset\n",
    "This dataframe is used to determine the profit that a genre made within a given year."
   ]
  },
  {
   "cell_type": "code",
   "execution_count": 7,
   "metadata": {
    "colab": {},
    "colab_type": "code",
    "id": "p9gH78EwHble"
   },
   "outputs": [],
   "source": [
    "# Create a temporary data structure to hold the movies that are classified as \n",
    "# a genre\n",
    "mov_genre = {}\n",
    "for genre in genre_list:\n",
    "  for (i, row) in movies.iterrows():\n",
    "    movie = row['movie_title']\n",
    "    if genre in row['genres']:\n",
    "      mov_genre.setdefault(genre, []).append(movie)\n",
    "\n",
    "# Function to format a dataframe for a genre that includes the profit per year. \n",
    "def genre_dataframe(df, g): \n",
    "  for (i, row) in df.iterrows():\n",
    "      # Get the profit of a movie \n",
    "      profit = movies.loc[movies['movie_title'] == df[0][i], \n",
    "                          'profit'].values[0]\n",
    "      # Get the year of the movie\n",
    "      year = movies.loc[movies['movie_title'] == df[0][i], \n",
    "                        'title_year'].values[0]\n",
    "      # Get the decade value of the movie \n",
    "      period = movies.loc[movies['movie_title'] == df[0][i], \n",
    "                          'decades'].values[0]\n",
    "\n",
    "      # Place in the dataframe\n",
    "      df.at[i, 'Genre'] = g\n",
    "      df.at[i, 'Profit'] = profit\n",
    "      df.at[i, 'Year'] = year\n",
    "      df.at[i, 'Decade'] = period\n",
    "\n",
    "  #Aesthetic of the dataframe \n",
    "  df.columns = ['Movies', 'Genre', 'Profit', 'Year', 'Decade']\n",
    "\n",
    "  # Group the dataframe by genre and year and sum the profit of that year \n",
    "  df = df.groupby(['Genre', 'Year'])[['Profit']].sum()\n",
    "\n",
    "  return df"
   ]
  },
  {
   "cell_type": "code",
   "execution_count": 8,
   "metadata": {
    "colab": {
     "base_uri": "https://localhost:8080/",
     "height": 204
    },
    "colab_type": "code",
    "id": "f3nSBNZqHhuY",
    "outputId": "ba6a1f9a-da22-4e3a-ea36-57f88067030c"
   },
   "outputs": [
    {
     "data": {
      "text/html": [
       "<div>\n",
       "<style scoped>\n",
       "    .dataframe tbody tr th:only-of-type {\n",
       "        vertical-align: middle;\n",
       "    }\n",
       "\n",
       "    .dataframe tbody tr th {\n",
       "        vertical-align: top;\n",
       "    }\n",
       "\n",
       "    .dataframe thead th {\n",
       "        text-align: right;\n",
       "    }\n",
       "</style>\n",
       "<table border=\"1\" class=\"dataframe\">\n",
       "  <thead>\n",
       "    <tr style=\"text-align: right;\">\n",
       "      <th></th>\n",
       "      <th>Genre</th>\n",
       "      <th>Year</th>\n",
       "      <th>Profit</th>\n",
       "    </tr>\n",
       "  </thead>\n",
       "  <tbody>\n",
       "    <tr>\n",
       "      <th>0</th>\n",
       "      <td>Action</td>\n",
       "      <td>1954.0</td>\n",
       "      <td>-1730939.0</td>\n",
       "    </tr>\n",
       "    <tr>\n",
       "      <th>1</th>\n",
       "      <td>Action</td>\n",
       "      <td>1962.0</td>\n",
       "      <td>14967035.0</td>\n",
       "    </tr>\n",
       "    <tr>\n",
       "      <th>2</th>\n",
       "      <td>Action</td>\n",
       "      <td>1963.0</td>\n",
       "      <td>59700000.0</td>\n",
       "    </tr>\n",
       "    <tr>\n",
       "      <th>3</th>\n",
       "      <td>Action</td>\n",
       "      <td>1964.0</td>\n",
       "      <td>51400000.0</td>\n",
       "    </tr>\n",
       "    <tr>\n",
       "      <th>4</th>\n",
       "      <td>Action</td>\n",
       "      <td>1965.0</td>\n",
       "      <td>54600000.0</td>\n",
       "    </tr>\n",
       "  </tbody>\n",
       "</table>\n",
       "</div>"
      ],
      "text/plain": [
       "    Genre    Year      Profit\n",
       "0  Action  1954.0  -1730939.0\n",
       "1  Action  1962.0  14967035.0\n",
       "2  Action  1963.0  59700000.0\n",
       "3  Action  1964.0  51400000.0\n",
       "4  Action  1965.0  54600000.0"
      ]
     },
     "execution_count": 8,
     "metadata": {},
     "output_type": "execute_result"
    }
   ],
   "source": [
    "# Create a dataframe for 'Action' genre \n",
    "values = mov_genre.get('Action')\n",
    "df = pd.DataFrame(values)\n",
    "action = genre_dataframe(df, 'Action')\n",
    "\n",
    "# Create a dataframe for 'Adventure' genre\n",
    "values = mov_genre.get('Adventure')\n",
    "df = pd.DataFrame(values)\n",
    "adv = genre_dataframe(df, 'Adventure')\n",
    "\n",
    "# Create a dataframe for 'Animation' genre\n",
    "values = mov_genre.get('Animation')\n",
    "df = pd.DataFrame(values)\n",
    "ani = genre_dataframe(df, 'Animation')\n",
    "\n",
    "# Create a dataframe for 'Biography' genre\n",
    "values = mov_genre.get('Biography')\n",
    "df = pd.DataFrame(values)\n",
    "bio = genre_dataframe(df, 'Biography')\n",
    "\n",
    "# Create a dataframe for 'Comedy' genre\n",
    "values = mov_genre.get('Comedy')\n",
    "df = pd.DataFrame(values)\n",
    "com = genre_dataframe(df, 'Comedy')\n",
    "\n",
    "# Create a dataframe for 'Crime' genre\n",
    "values = mov_genre.get('Crime')\n",
    "df = pd.DataFrame(values)\n",
    "cri = genre_dataframe(df, 'Crime')\n",
    "\n",
    "# Create a dataframe for 'Documentary' genre\n",
    "values = mov_genre.get('Documentary')\n",
    "df = pd.DataFrame(values)\n",
    "doc = genre_dataframe(df, 'Documentary')\n",
    "\n",
    "# Create a dataframe for 'Drama' genre\n",
    "values = mov_genre.get('Drama')\n",
    "df = pd.DataFrame(values)\n",
    "dra = genre_dataframe(df, 'Drama')\n",
    "\n",
    "# Create a dataframe for 'Family' genre\n",
    "values = mov_genre.get('Family')\n",
    "df = pd.DataFrame(values)\n",
    "fam = genre_dataframe(df, 'Family')\n",
    "\n",
    "# Create a dataframe for 'Fantasy' genre\n",
    "values = mov_genre.get('Fantasy')\n",
    "df = pd.DataFrame(values)\n",
    "fan = genre_dataframe(df, 'Fantasy')\n",
    "\n",
    "# Create a dataframe for 'Film-Noir' genre\n",
    "values = mov_genre.get('Film-Noir')\n",
    "df = pd.DataFrame(values)\n",
    "fil = genre_dataframe(df, 'Film-Noir')\n",
    "\n",
    "# Create a dataframe for 'History' genre\n",
    "values = mov_genre.get('History')\n",
    "df = pd.DataFrame(values)\n",
    "his = genre_dataframe(df, 'History')\n",
    "\n",
    "# Create a dataframe for 'Horror' genre\n",
    "values = mov_genre.get('Horror')\n",
    "df = pd.DataFrame(values)\n",
    "hor = genre_dataframe(df, 'Horror')\n",
    "\n",
    "# Create a dataframe for 'Music' genre\n",
    "values = mov_genre.get('Music')\n",
    "df = pd.DataFrame(values)\n",
    "music = genre_dataframe(df, 'Music')\n",
    "\n",
    "# Create a dataframe for 'Musical' genre\n",
    "values = mov_genre.get('Musical')\n",
    "df = pd.DataFrame(values)\n",
    "musical = genre_dataframe(df, 'Musical')\n",
    "\n",
    "# Create a dataframe for 'Mystery' genre\n",
    "values = mov_genre.get('Mystery')\n",
    "df = pd.DataFrame(values)\n",
    "myst = genre_dataframe(df,'Mystery')\n",
    "\n",
    "# Create a dataframe for 'Romance' genre\n",
    "values = mov_genre.get('Romance')\n",
    "df = pd.DataFrame(values)\n",
    "rom = genre_dataframe(df, 'Romance')\n",
    "\n",
    "# Create a dataframe for 'Sci-Fi' genre\n",
    "values = mov_genre.get('Sci-Fi')\n",
    "df = pd.DataFrame(values)\n",
    "sci = genre_dataframe(df, 'Sci-Fi')\n",
    "\n",
    "# Create a dataframe for 'Short' genre\n",
    "values = mov_genre.get('Short')\n",
    "df = pd.DataFrame(values)\n",
    "sho = genre_dataframe(df, 'Short')\n",
    "\n",
    "# Create a dataframe for 'Sport' genre\n",
    "values = mov_genre.get('Sport')\n",
    "df = pd.DataFrame(values)\n",
    "spo = genre_dataframe(df, 'Sport')\n",
    "\n",
    "# Create a dataframe for 'Thiller' genre\n",
    "values = mov_genre.get('Thriller')\n",
    "df = pd.DataFrame(values)\n",
    "thr = genre_dataframe(df, 'Thriller')\n",
    "\n",
    "# Create a dataframe for 'War' genre\n",
    "values = mov_genre.get('War')\n",
    "df = pd.DataFrame(values)\n",
    "war = genre_dataframe(df, 'War')\n",
    "\n",
    "# Create a dataframe for 'Western' genre\n",
    "values = mov_genre.get('Western')\n",
    "df = pd.DataFrame(values)\n",
    "wes = genre_dataframe(df, 'Western')\n",
    "\n",
    "# Create a large dataframe with all the genres together \n",
    "genre_df = pd.concat([action, adv, ani, bio, com, cri, doc, dra, fam, fan, fil, \n",
    "                      his, hor, music, musical, myst, rom, sci, sho, spo, thr, \n",
    "                      war, wes], axis= 0)\n",
    "genre_df = genre_df.reset_index()\n",
    "genre_df.head()"
   ]
  },
  {
   "cell_type": "markdown",
   "metadata": {
    "colab_type": "text",
    "id": "8qmyIv5c7oQQ"
   },
   "source": [
    "## Exploratory Data Analysis\n",
    "In this section of our project, we focused on constructing different plots representing relationships between variables. Some of these plots explore the following: \n",
    "- Profit directors made across time\n",
    "- IMDb scores across time for directors\n",
    "- Content-rating film count across time \n",
    "- Content-rating vs. gross, profit\n",
    "- IMDb score vs. gross\n",
    "- Profit vs. year\n",
    "- Movie Count vs. genre\n",
    "\n"
   ]
  },
  {
   "cell_type": "markdown",
   "metadata": {
    "colab_type": "text",
    "id": "kGnfYgjzCXuz"
   },
   "source": [
    "### Director's Profit. vs Year"
   ]
  },
  {
   "cell_type": "markdown",
   "metadata": {
    "colab_type": "text",
    "id": "MohkUtuxOXUW"
   },
   "source": [
    "Below are scatterplots of each director's movie profits versus the year the movie came out. "
   ]
  },
  {
   "cell_type": "code",
   "execution_count": 9,
   "metadata": {
    "colab": {
     "base_uri": "https://localhost:8080/",
     "height": 342,
     "referenced_widgets": [
      "073afe2c0d4a446898ca3c6ca4023a41",
      "2f560c4161014ded994513b8a9e967dc",
      "e50e627a4e4f40668e23bfad1a41ee94",
      "c7d70e23d40c423e92ecb82f0657a96b",
      "2060a5458e9c49ecbe4c57c8be804dac",
      "3cb729b7cb48492a93dd061ca1cc61ea"
     ]
    },
    "colab_type": "code",
    "id": "cs_WHMqZCWc5",
    "outputId": "5b6a398c-7ab9-47bd-8863-89698a49c47b"
   },
   "outputs": [
    {
     "data": {
      "application/vnd.jupyter.widget-view+json": {
       "model_id": "106e19a4ee214a9eaf0b0b9ef87f1483",
       "version_major": 2,
       "version_minor": 0
      },
      "text/plain": [
       "interactive(children=(Dropdown(description='Director:', options=('Alfred Hitchcock', 'Ang Lee', 'Ava DuVernay'…"
      ]
     },
     "metadata": {},
     "output_type": "display_data"
    }
   ],
   "source": [
    "# Creates dropdown menu for time periods \n",
    "values = sorted(directors['director_name'].unique())  \n",
    "period = widgets.Dropdown(\n",
    "        options=values,\n",
    "        value='Alfred Hitchcock',\n",
    "        description='Director:',\n",
    "   )\n",
    "\n",
    "def profit_decade_plt(pt): \n",
    "  df = directors[directors['director_name'] == pt]\n",
    "\n",
    "  # Set the parameters for X and Y \n",
    "  X = df['title_year'].values.reshape(-1,1)\n",
    "  Y = df['profit'].values.reshape(-1,1)\n",
    "\n",
    "  # Create the linear regression \n",
    "  regr = LinearRegression().fit(X, Y)\n",
    "\n",
    "  # Create the prediction of the X value based on the linear regression\n",
    "  prediction = regr.predict(X)\n",
    "\n",
    "  # Create a color list\n",
    "  length = len(df)\n",
    "  colors = [\"#\"+''.join([random.choice('0123456789ABCDEF') for j in range(6)])\n",
    "             for i in range(length)]\n",
    "\n",
    "  ax = df.plot.scatter(title=\"Profit v. Year:\\n{}\".format(pt),\n",
    "                  x='title_year', \n",
    "                  y='profit',\n",
    "                  color=colors)\n",
    "  \n",
    "  # Aesthetic for the Graph:  Labels\n",
    "  ax.set_ylabel('Profit')\n",
    "  ax.set_xlabel('Year')\n",
    "  plt.plot(X, prediction, color='k', linewidth=.5)\n",
    "  plt.show()\n",
    "\n",
    "interactive(profit_decade_plt, pt=period)"
   ]
  },
  {
   "cell_type": "markdown",
   "metadata": {
    "colab_type": "text",
    "id": "WDL7fjJCI2Yv"
   },
   "source": [
    "### Director's IMDb Score vs. Year"
   ]
  },
  {
   "cell_type": "markdown",
   "metadata": {
    "colab_type": "text",
    "id": "Ci-N4WaAOwYc"
   },
   "source": [
    "Below are scatterplots of each director's movie IMDb scores versus the year it came out."
   ]
  },
  {
   "cell_type": "code",
   "execution_count": 10,
   "metadata": {
    "colab": {
     "base_uri": "https://localhost:8080/",
     "height": 342,
     "referenced_widgets": [
      "720deb9a9de84a4aaee0e736b457c051",
      "99c959cdf62240678e17658bda7bc0d6",
      "52cd93be3b2d4b9c8184a194af45c0ec",
      "8817cb2706d644619fa6e3ad2744078e",
      "7d4834e644514b059c3c82b9bed0e576",
      "1581ae91e5b54cfbbda4aba3559ac7dd"
     ]
    },
    "colab_type": "code",
    "id": "1qsJUaocJGIm",
    "outputId": "b1644ada-97c2-4c17-eda1-6beeaa94a62a"
   },
   "outputs": [
    {
     "data": {
      "application/vnd.jupyter.widget-view+json": {
       "model_id": "b03f0f6eb61c4a44b3bae068ffe0325b",
       "version_major": 2,
       "version_minor": 0
      },
      "text/plain": [
       "interactive(children=(Dropdown(description='Director:', options=('Alfred Hitchcock', 'Ang Lee', 'Ava DuVernay'…"
      ]
     },
     "metadata": {},
     "output_type": "display_data"
    }
   ],
   "source": [
    "# Creates dropdown menu for time periods \n",
    "values = sorted(directors['director_name'].unique())  \n",
    "period = widgets.Dropdown(\n",
    "        options=values,\n",
    "        value='Alfred Hitchcock',\n",
    "        description='Director:',\n",
    "   )\n",
    "\n",
    "def score_decade_plt(pt): \n",
    "  df = directors[directors['director_name'] == pt]\n",
    "\n",
    "  # Set the parameters for X and Y \n",
    "  X = df['title_year'].values.reshape(-1,1)\n",
    "  Y = df['imdb_score'].values.reshape(-1,1)\n",
    "\n",
    "  # Create the linear regression \n",
    "  regr = LinearRegression().fit(X, Y)\n",
    "\n",
    "  # Create the prediction of the X value based on the linear regression\n",
    "  prediction = regr.predict(X)\n",
    "\n",
    "  # Create a color list\n",
    "  length = len(df)\n",
    "  colors = [\"#\"+''.join([random.choice('0123456789ABCDEF') for j in range(6)])\n",
    "             for i in range(length)]\n",
    "\n",
    "  ax = df.plot.scatter(title=\"IMDb Score v. Year:\\n{}\".format(pt),\n",
    "                  x='title_year', \n",
    "                  y='imdb_score',\n",
    "                  color=colors)\n",
    "  \n",
    "  # Aesthetic for the Graph:  Labels\n",
    "  ax.set_ylabel('IMDb Score')\n",
    "  ax.set_xlabel('Year')\n",
    "  plt.plot(X, prediction, color='k', linewidth=.5)\n",
    "  plt.show()\n",
    "  \n",
    "\n",
    "interactive(score_decade_plt, pt=period)"
   ]
  },
  {
   "cell_type": "markdown",
   "metadata": {
    "colab_type": "text",
    "id": "hoIzELcPPmiO"
   },
   "source": [
    "### Director's Profit and IMDb Trend Analysis"
   ]
  },
  {
   "cell_type": "markdown",
   "metadata": {
    "colab_type": "text",
    "id": "NouD4xOBPQgf"
   },
   "source": [
    "From these two charts, we are trying to see if there is a correlation between each director's IMDB scores and profit. With seasoned directors like Steven Spielberg and Quentin Tarantino, we see that they both had a general downward trend in both profit and IMDB score. There may be a correlation between being a seasoned director and their trend with these variables.  The movies they are most well-known for were from earlier in their careers. It is likely that after their breakout films, like Tarantino's ***Pulp Fiction*** and Spielberg's ***Jaws***, their audience started having higher expectations for their films. This led to the audience being more disappointed with the movies that were produced afterward. The effect of this is a lower rating on IMDB and being less likely to go to the movie theaters to watch films they directed. However, it is important to note that despite both directors' general trends being negative, both still had average to above-average ratings on their movies, and made high profits from their films. \n",
    " \n",
    "One seasoned director that did not quite follow the same trend is Spike Lee, who had a downward trend for profits but demonstrated a consistently positive trend in IMDb ratings. This could potentially be because his later movies are targeted towards a specific demographic or audience. Those in this targeted group watched and rated the film highly.\n",
    "\n",
    "As for the newer directors like Darren Aronofsky and Christopher Nolan, they are bringing fresh perspectives to the table. Since they are newer directors, the public does not necessarily have high expectations for them as there is no proceeding movie to base their opinion. \n",
    "\n",
    "A contradiction to this trend is James Wan, who saw an increasing trend in profits, but a downward trend in ratings. This is likely due to him working primarily on horror franchises, such as the Saw franchise. Moviegoers had no set standards for the first film, so when movie was released, profits and ratings were high. However, as the franchise progressed, the profits still remained high, but ratings became lower as fans now have a set standard for quality and originality.\n",
    "\n",
    "From this analysis, we can see two outcomes:\n",
    "1. Seasoned directors tend to have higher profits due to stronger followings and a trend of decreasing IMDb scores (each are still significantly high) due to public's expectations for their films.\n",
    "2. Newer directors tend to have lower profits (when compared to season directors) due to marketing infrastructure and higher IMDb scores because of their inventiveness, as they do not have many films available for comparison.\n",
    "  "
   ]
  },
  {
   "cell_type": "markdown",
   "metadata": {
    "colab_type": "text",
    "id": "4nxTQg24Ep99"
   },
   "source": [
    "### IMDb Score vs. Decades"
   ]
  },
  {
   "cell_type": "markdown",
   "metadata": {
    "colab_type": "text",
    "id": "yxY5rJUKzJeU"
   },
   "source": [
    "The following graph is used to showcase the range of scores attributed to fi from each decade. As we can see, movies from the 40s, 50s, and 60s all typically have a mean rating of 7 or 8. We believe that this is due to the lack of documentation and IMDb being created in 1990. With the movies being made decades before the site was created, these movies are ones that people remember and revere. They were the ones that we're able to stand the test of time, and thus why they can still be watched and remembered decades later.\n",
    "\n",
    "Beginning with the 1980s and onwards, the scores are more varied across the decades, meaning that users are rating a film as soon as they have watched a movie. "
   ]
  },
  {
   "cell_type": "code",
   "execution_count": 11,
   "metadata": {
    "colab": {
     "base_uri": "https://localhost:8080/",
     "height": 335
    },
    "colab_type": "code",
    "id": "XmM6z7Q7EoZR",
    "outputId": "d58fee19-3f40-4ebe-a294-58bac8c8660c"
   },
   "outputs": [
    {
     "data": {
      "image/png": "[encoded data removed]",
      "text/plain": [
       "<Figure size 432x288 with 1 Axes>"
      ]
     },
     "metadata": {
      "needs_background": "light"
     },
     "output_type": "display_data"
    }
   ],
   "source": [
    "# Create the violinplot\n",
    "IMDbyear = sns.violinplot(data = movies, x = 'decades', y = 'imdb_score', \n",
    "                          fliersize = 150)\n",
    "\n",
    "# Aesthetics for the violinplot\n",
    "IMDbyear.set_xlabel(\"Decades\")\n",
    "IMDbyear.set_ylabel(\"IMDb Score\")\n",
    "IMDbyear.set_title(\"IMDb Score vs Decades\")\n",
    "plt.setp(IMDbyear.get_xticklabels(), rotation=45)\n",
    "plt.show()"
   ]
  },
  {
   "cell_type": "markdown",
   "metadata": {
    "colab_type": "text",
    "id": "m7_9tSWIiSA4"
   },
   "source": [
    "### Average Budget vs. Content Rating"
   ]
  },
  {
   "cell_type": "markdown",
   "metadata": {
    "colab_type": "text",
    "id": "npXmdd6FoNGr"
   },
   "source": [
    "A relationship we explored was between content-rating and budget. We wanted to see if ratings have an influence on the budget for movie productions. \n",
    "\n",
    "As we can see below, movies rated G, PG-13, and PG have the highest budget overall. Rated R movies are in 4th place. Rated X movies had the lowest average budget."
   ]
  },
  {
   "cell_type": "code",
   "execution_count": 12,
   "metadata": {
    "colab": {
     "base_uri": "https://localhost:8080/",
     "height": 444
    },
    "colab_type": "code",
    "id": "qqMrju2hid2i",
    "outputId": "c7cb7185-9285-4cb3-90bb-b6dd44cba060"
   },
   "outputs": [
    {
     "data": {
      "image/png": "[encoded data removed]",
      "text/plain": [
       "<Figure size 576x432 with 1 Axes>"
      ]
     },
     "metadata": {
      "needs_background": "light"
     },
     "output_type": "display_data"
    }
   ],
   "source": [
    "# Create a dataframe that is grouped by content-rating, but then find the mean\n",
    "# of all numeric attributes\n",
    "agg = movies.groupby('content_rating').mean()\n",
    "ratings = agg.index.tolist()\n",
    "budgets = agg.budget\n",
    "df = pd.DataFrame({'content_rating': ratings,'budget': budgets})\n",
    "ax = df.plot(kind = 'bar',    # Plot a bar chart\n",
    "        legend = False,    # Turn the Legend off\n",
    "        width = 0.75,      # Set bar width as 75% of space available\n",
    "        figsize = (8, 6),  # Set size of plot in inches\n",
    "        color = [plt.cm.Paired(np.arange(len(df)))])\n",
    "\n",
    "# Aesthetics for the bar chart\n",
    "ax.set_title('Content Rating vs Average Budget')\n",
    "ax.set_xlabel('Content Rating')\n",
    "ax.set_ylabel('Budget in Ten Millions')\n",
    "plt.show()"
   ]
  },
  {
   "cell_type": "markdown",
   "metadata": {
    "colab_type": "text",
    "id": "FgiT4ferih_o"
   },
   "source": [
    "### Content Rating vs. Gross"
   ]
  },
  {
   "cell_type": "markdown",
   "metadata": {
    "colab_type": "text",
    "id": "YZQFyeUsKYDs"
   },
   "source": [
    "We can conclude that movies with PG, G, and M ratings tend to have higher gross averages. However, movies rated PG, PG-13, R, and G have the most extreme outliers.  Movies with ratings \"Not Rated\", \"Unrated\", \"Passed\", \"GP\", and \"NC-17\" don't appear often. Due to this limitation, their averages are not necessarily representative of their typical gross. "
   ]
  },
  {
   "cell_type": "code",
   "execution_count": 13,
   "metadata": {
    "colab": {
     "base_uri": "https://localhost:8080/",
     "height": 328
    },
    "colab_type": "code",
    "id": "9udZzw1fik61",
    "outputId": "8e35ae9b-11c1-4f83-ecfe-22942c3acc6e"
   },
   "outputs": [
    {
     "data": {
      "image/png": "[encoded data removed]",
      "text/plain": [
       "<Figure size 432x288 with 1 Axes>"
      ]
     },
     "metadata": {
      "needs_background": "light"
     },
     "output_type": "display_data"
    }
   ],
   "source": [
    "# Create a boxplot\n",
    "grossrating = sns.boxplot(data = movies, x = 'content_rating', y = 'gross')\n",
    "\n",
    "# Aesthetics for the boxplot\n",
    "grossrating.set_xlabel(\"Content Rating\")\n",
    "grossrating.set_ylabel(\"Gross in Hundred Millions\")\n",
    "grossrating.set_title(\"Content Rating vs Gross\")\n",
    "plt.setp(grossrating.get_xticklabels(), rotation=45)\n",
    "plt.show()"
   ]
  },
  {
   "cell_type": "markdown",
   "metadata": {
    "colab_type": "text",
    "id": "q28F_5sQw7uy"
   },
   "source": [
    "### Content Rating vs. Profit"
   ]
  },
  {
   "cell_type": "markdown",
   "metadata": {
    "colab_type": "text",
    "id": "OMErjObhL5n-"
   },
   "source": [
    "Below we created two graphs. In the first graph, we see a few extreme outliers. The outliers represent how much profit was lost. The movies that appeared to have done the worst were from the Rated R category. Rated R appears to have the most extreme outliers, with PG-13 in second place. \n",
    "\n",
    "The second graph displays the same data without the negative extreme outliers. In the second graph, we see that PG-13 and PG movies had the most extreme positive outliers. These outliers represent the most profitable movies. Interestingly, Rated R and G movies also had many profitable outliers. \n",
    "\n",
    "From our graphs, we can conclude that mainstream ratings ('R', 'PG', 'PG-13', 'G') do affect profitability. \n",
    " "
   ]
  },
  {
   "cell_type": "code",
   "execution_count": 14,
   "metadata": {
    "colab": {
     "base_uri": "https://localhost:8080/",
     "height": 639
    },
    "colab_type": "code",
    "id": "LgDauYjfw_Si",
    "outputId": "3e4a593c-ccad-48ab-eda3-4faab5bb79f3"
   },
   "outputs": [
    {
     "data": {
      "image/png": "[encoded data removed]",
      "text/plain": [
       "<Figure size 432x288 with 1 Axes>"
      ]
     },
     "metadata": {
      "needs_background": "light"
     },
     "output_type": "display_data"
    },
    {
     "data": {
      "image/png": "[encoded data removed]",
      "text/plain": [
       "<Figure size 432x288 with 1 Axes>"
      ]
     },
     "metadata": {
      "needs_background": "light"
     },
     "output_type": "display_data"
    }
   ],
   "source": [
    "# Create a boxplot\n",
    "grossprofit = sns.boxplot(data = movies, x = 'content_rating', y = 'profit')\n",
    "\n",
    "# Aesthetics for the boxplot\n",
    "grossprofit.set_xlabel(\"Content Rating\")\n",
    "grossprofit.set_ylabel(\"Profit in Ten Billions\")\n",
    "grossprofit.set_title(\"Content Rating vs Profit\")\n",
    "plt.setp(grossprofit.get_xticklabels(), rotation=45)\n",
    "plt.show()\n",
    "movies2 = movies.copy()\n",
    "\n",
    "# Create another graph excluding the extreme outliers\n",
    "indexNames = movies[movies['profit'] < -20000000].index\n",
    "movies2 = movies2.drop(indexNames)\n",
    "grossprofit2 = sns.boxplot(data = movies2, x = 'content_rating', y = 'profit')\n",
    "\n",
    "# Aesthetics for the boxplot\n",
    "grossprofit2.set_xlabel(\"Content Rating\")\n",
    "grossprofit2.set_ylabel(\"Profit in Hundred Millions\")\n",
    "grossprofit2.set_title(\"Content Rating vs Profit (Without Extreme Outliers)\")\n",
    "plt.setp(grossprofit2.get_xticklabels(), rotation=45)\n",
    "plt.show()"
   ]
  },
  {
   "cell_type": "markdown",
   "metadata": {
    "colab_type": "text",
    "id": "7fMJ1iUBxDnA"
   },
   "source": [
    "### IMDb Score vs. Gross"
   ]
  },
  {
   "cell_type": "markdown",
   "metadata": {
    "colab_type": "text",
    "id": "YvmsJr5nNJR0"
   },
   "source": [
    "Next, we look at the relationship between IMDb scores and gross. From the plot, we see that the highest rated movies have the highest average gross. However, it is important to note that movies with ratings from 5.8 to 8.6 had a large amount of movies with very high grosses, 4 of which beat the highest grossing movie in the 8.6-9.3  rating. However, there appears to be a general trend of the higher the movie rating, the more money it made."
   ]
  },
  {
   "cell_type": "code",
   "execution_count": 15,
   "metadata": {
    "colab": {
     "base_uri": "https://localhost:8080/",
     "height": 334
    },
    "colab_type": "code",
    "id": "lhSG7bSJxI7_",
    "outputId": "10ff325f-56de-433c-9e03-8ab0353de52b"
   },
   "outputs": [
    {
     "data": {
      "image/png": "[encoded data removed]",
      "text/plain": [
       "<Figure size 432x288 with 1 Axes>"
      ]
     },
     "metadata": {
      "needs_background": "light"
     },
     "output_type": "display_data"
    }
   ],
   "source": [
    "# Create a boxplot\n",
    "grossscore = sns.boxplot(data = movies, x = 'scores', y = 'gross')\n",
    "\n",
    "# Aesthetics for the boxplot\n",
    "grossscore.set_xlabel(\"IMDb Score\")\n",
    "grossscore.set_ylabel(\"Gross in Hundred Millions\")\n",
    "grossscore.set_title(\"IMDb Score vs Gross\")\n",
    "plt.setp(grossscore.get_xticklabels(), rotation=45)\n",
    "plt.show()"
   ]
  },
  {
   "cell_type": "markdown",
   "metadata": {
    "colab_type": "text",
    "id": "NaNs4phC3HJ5"
   },
   "source": [
    "### By the Decade: Profit vs. Year \n",
    "\n",
    "We wanted to see if there was a relationship between the profit and the year the film came out. This relation tests to see if there is a general trend that can be observed that may give insight to the amount of profit a film can obtain just by being produced in a certain year.\n",
    "\n",
    "The first chart looks at the year and profit of films made within a specific decade. This gives us not only an understanding of how films faired during a period but how saturated the industry was during that decade.\n",
    "\n",
    "The second chart displays the overall year and profit of all films.\n",
    "\n",
    "The extreme negative outliers were removed from both graphs to give a better overview of the data.\n",
    "\n",
    "As we have observed in other plots above, as time increases, the profit made becomes more positively consistent across the years. The second graph clearly shows how several films stay within a specific profit margin. Aside from the outliers, most films see a profit but some extremely positive outliers show movies doing particularly better with a specific year.\n",
    "\n",
    "\n",
    "\n",
    "\n"
   ]
  },
  {
   "cell_type": "code",
   "execution_count": 16,
   "metadata": {
    "colab": {
     "base_uri": "https://localhost:8080/",
     "height": 662,
     "referenced_widgets": [
      "19f00975b449451c9ea9e596bb0f2c07",
      "1f82ad31250243e8aa2d989c72e09d2c",
      "6be83c64541b439b9c399ba9a0d1ebdd",
      "16458303fb17491da0cf719fdf7771e8",
      "7cfc05ac817649a89cb42dafc2d5d85e",
      "e4d3caad2a0e4c3cbd568daaec859865"
     ]
    },
    "colab_type": "code",
    "id": "xu0bwA-v2_45",
    "outputId": "433a4eaa-a89e-4717-999c-699d3f00d7f0"
   },
   "outputs": [
    {
     "data": {
      "application/vnd.jupyter.widget-view+json": {
       "model_id": "c1e13404e2f24f0ca4f58eebbdbc3a4a",
       "version_major": 2,
       "version_minor": 0
      },
      "text/plain": [
       "interactive(children=(Dropdown(description='Time Period:', options=('1940-1949', '1950 - 1959', '1960- 1969', …"
      ]
     },
     "metadata": {},
     "output_type": "display_data"
    }
   ],
   "source": [
    "# Creates dropdown menu for time periods \n",
    "values = sorted(movies['decades'].unique())  \n",
    "period = widgets.Dropdown(\n",
    "        options=values,\n",
    "        value='1940-1949',\n",
    "        description='Time Period:',\n",
    "   )\n",
    "\n",
    "def profit_decade_plt(pt): \n",
    "  df = movies[movies['decades'] == pt]\n",
    "  df = df[df['profit'] > -20000000]\n",
    "  df2 = movies[movies['profit'] > -20000000]\n",
    "\n",
    "  # Set the parameters for X and Y \n",
    "  X = df['title_year'].values.reshape(-1,1)\n",
    "  Y = df['profit'].values.reshape(-1,1)\n",
    "\n",
    "  # Create the linear regression \n",
    "  regr = LinearRegression().fit(X, Y)\n",
    "\n",
    "  # Create the prediction of the X value based on the linear regression\n",
    "  prediction = regr.predict(X)\n",
    "\n",
    "  # Create a color list\n",
    "  length = len(df)\n",
    "  colors = [\"#\"+''.join([random.choice('0123456789ABCDEF') for j in range(6)])\n",
    "             for i in range(length)]\n",
    "\n",
    "  length2 = len(df2)\n",
    "  colors2 = [\"#\"+''.join([random.choice('0123456789ABCDEF') for j in range(6)])\n",
    "             for i in range(length2)]\n",
    "\n",
    "  # Decade Year v. Profit\n",
    "  ax = df.plot.scatter(title=\"Profit v. Year:\\n{}\".format(pt),\n",
    "                  x='title_year', \n",
    "                  y='profit',\n",
    "                  color=colors)\n",
    "  # Line of best fit for Decade Plot\n",
    "  plt.plot(X, prediction, color='k', linewidth=.5)\n",
    "  \n",
    "  # Full Year v. Profit Plot \n",
    "  bx = df2.plot.scatter(title=\"Profit v. Year\",\n",
    "                  x='title_year', \n",
    "                  y='profit', \n",
    "                  color=colors2)\n",
    "  \n",
    "  # Aesthetic for the Graph:  Labels\n",
    "  ax.set_ylabel('Profit')\n",
    "  ax.set_xlabel('Year')\n",
    "  bx.set_ylabel('Profit')\n",
    "  bx.set_xlabel('Year')\n",
    "\n",
    "  plt.setp(ax.get_xticklabels(), rotation=45)\n",
    "  \n",
    "\n",
    "  plt.setp(bx.get_xticklabels(), rotation=45)\n",
    "  \n",
    "\n",
    "interactive(profit_decade_plt, pt=period)"
   ]
  },
  {
   "cell_type": "markdown",
   "metadata": {
    "colab_type": "text",
    "id": "PJxI0Jmt3b_-"
   },
   "source": [
    "### Movie Count vs. Genre"
   ]
  },
  {
   "cell_type": "markdown",
   "metadata": {
    "colab_type": "text",
    "id": "hejyFsNPkfT7"
   },
   "source": [
    "Utilizing the Movie Count-Genre dataset, we plotted the number of movies within the movies dataset based on their genre. In the movies dataset, most of the movies have more than one genre attributed to it. Due to this, many of the movies are counted many times across each genre. We use this to understand how movies are categorized throughout the year and which were the most popular categorization within the movies datasets. \n",
    "\n",
    "Based on this visualization, we can see that most movies are categorized as \"Drama\", followed by categories of \"Comedy\" and \"Action\". There are not many movies that are classified as \"Short\", \"Musical\", and \"Film-Noir\" within the dataset. \n",
    "\n",
    "This could suggest that the categories that have a few classifications are not popular genres for movies, whereas films that are considered \"Action\", \"Comedy\", and \"Drama\" are very popular. "
   ]
  },
  {
   "cell_type": "code",
   "execution_count": 17,
   "metadata": {
    "colab": {
     "base_uri": "https://localhost:8080/",
     "height": 353
    },
    "colab_type": "code",
    "id": "v_7Cn7Mo3XUv",
    "outputId": "ce18d2e8-935a-46ea-8625-9cf55c9b8eac"
   },
   "outputs": [
    {
     "data": {
      "image/png": "[encoded data removed]",
      "text/plain": [
       "<Figure size 432x288 with 1 Axes>"
      ]
     },
     "metadata": {
      "needs_background": "light"
     },
     "output_type": "display_data"
    }
   ],
   "source": [
    "length = len(mc_genre)\n",
    "\n",
    "# Aesthetics for the bar chart\n",
    "colors = [\"#\"+''.join([random.choice('0123456789ABCDEF') for j in range(6)])\n",
    "             for i in range(length)]\n",
    "\n",
    "ax = mc_genre.plot.bar(title = 'Genre vs. Movie Count', x = 'Genre', \n",
    "                       y = 'Movie Count', color = colors)\n",
    "ax.get_legend().remove()\n",
    "ax.set_ylabel('Movie Count')\n",
    "\n",
    "plt.show()"
   ]
  },
  {
   "cell_type": "markdown",
   "metadata": {
    "colab_type": "text",
    "id": "rzdSsZaLXq5C"
   },
   "source": [
    "### By the Decade: Profit vs. Budget "
   ]
  },
  {
   "cell_type": "markdown",
   "metadata": {
    "colab_type": "text",
    "id": "pHoalhI5tQ8u"
   },
   "source": [
    "This visualization is used to show the profits made per year separated by decades. \n",
    "\n",
    "Before the 1970s, the linear regression line showed that there was a slight correlation that as the budget increased, the profit of the film increased. \n",
    "\n",
    "However, that trend changed after the 1970s, where it can be seen that the budget of movies that came out within their respective decades had similar budgets and had varied profits from those budgets. Especially after the 1980s, nearly every movie that came out during their respective decades were within a very close interval in budgets. \n",
    "\n",
    "When a film had a large budget outside the norm of others within the decade, the film tends to fail in profits, causing the negative linear regression line. \n",
    "\n",
    "This could suggest that a film's budget began to have very little effect on its profitability. "
   ]
  },
  {
   "cell_type": "code",
   "execution_count": 18,
   "metadata": {
    "colab": {},
    "colab_type": "code",
    "id": "iTecZwvVXmin"
   },
   "outputs": [],
   "source": [
    "# Creates dropdown menu for time periods \n",
    "values = sorted(movies['decades'].unique())  \n",
    "period = widgets.Dropdown(\n",
    "        options=values,\n",
    "        value='1940-1949',\n",
    "        description='Time Period:',\n",
    "   )\n",
    "\n",
    "def profit_budget_plt(pt): \n",
    "  decade = movies[movies['decades'] == pt]\n",
    "\n",
    "  # Set the parameters for X and Y \n",
    "  X = decade['budget'].values.reshape(-1,1)\n",
    "  Y = decade['profit'].values.reshape(-1,1)\n",
    "\n",
    "  # Create the linear regression \n",
    "  regr = LinearRegression().fit(X, Y)\n",
    "\n",
    "  # Create the prediction of the X value based on the linear regression\n",
    "  prediction = regr.predict(X)\n",
    "\n",
    "\n",
    "  # Create a color list\n",
    "  length = len(decade)\n",
    "  colors = [\"#\"+''.join([random.choice('0123456789ABCDEF') for j in range(6)])\n",
    "             for i in range(length)]\n",
    "\n",
    "  ax = decade.plot.scatter(title=\"Budget v. Profit:\\n{}\".format(pt),\n",
    "                  x='budget', \n",
    "                  y='profit',\n",
    "                  color=colors)\n",
    "  \n",
    "  # Aesthetic for the Graph:  Labels\n",
    "  ax.set_ylabel('Profit')\n",
    "  ax.set_xlabel('Budget')\n",
    "  plt.xticks(rotation ='45')\n",
    "  \n",
    "  plt.plot(X, prediction, color='k')\n",
    "  plt.show()\n"
   ]
  },
  {
   "cell_type": "code",
   "execution_count": 19,
   "metadata": {
    "colab": {
     "base_uri": "https://localhost:8080/",
     "height": 370,
     "referenced_widgets": [
      "20ccef676bec4bdaae82d4e7e430eb1f",
      "8e77f1e6a1554bbcb9cd6d84a74acd6b",
      "39a6bda7065b4bb291e243e6ff35e2fe",
      "51ae396f023140ccafc120b18b1d090d",
      "1de4686c842940739ef22b8921008cbb",
      "058c349952ba4128b819d9901fce3d81"
     ]
    },
    "colab_type": "code",
    "id": "by1EhAbBYlk8",
    "outputId": "846e2289-a95a-4279-87c3-19c7a4a12a22"
   },
   "outputs": [
    {
     "data": {
      "application/vnd.jupyter.widget-view+json": {
       "model_id": "731b8d8beb6c4e65a9f56752d7e98bc5",
       "version_major": 2,
       "version_minor": 0
      },
      "text/plain": [
       "interactive(children=(Dropdown(description='Time Period:', options=('1940-1949', '1950 - 1959', '1960- 1969', …"
      ]
     },
     "metadata": {},
     "output_type": "display_data"
    }
   ],
   "source": [
    "interactive(profit_budget_plt, pt=period)"
   ]
  },
  {
   "cell_type": "markdown",
   "metadata": {
    "colab_type": "text",
    "id": "Hz-vaIoQh73u"
   },
   "source": [
    "## Machine Learning\n",
    "### Machine Learning: Simple Linear Regression\n",
    "Below, we constructed a single linear regression model performed on the movie years to determine what linear relationship exists between year and profit. Due to large outliers present in the data, the overall linear regression model shows a drastic, negative trend in profit across time. We chose to make two plots (one for the line of best fit and the other with the scatterplot) to show the model line clearly. \n",
    "\n",
    "To get a more fair representation of the data, we must incorporate an interaction term for each genre of film. This will help us understand the relationship between year and profit for each genre. We did this in the next section. "
   ]
  },
  {
   "cell_type": "code",
   "execution_count": 20,
   "metadata": {
    "colab": {
     "base_uri": "https://localhost:8080/",
     "height": 51
    },
    "colab_type": "code",
    "id": "FHsSwX6StWJA",
    "outputId": "104d93d9-2794-4e71-d502-60a5dffe44a1"
   },
   "outputs": [
    {
     "name": "stdout",
     "output_type": "stream",
     "text": [
      "The slope of the model is: [-4483234.71265635]\n",
      "The y-intercept of the model is: 8909616033.342546\n"
     ]
    }
   ],
   "source": [
    "# Fit the linear regression model\n",
    "reg = linear_model.LinearRegression()\n",
    "Xs = np.array(genre_df['Year']).reshape(-1, 1)\n",
    "ys = genre_df['Profit']\n",
    "\n",
    "# Fit the model\n",
    "reg.fit(Xs, ys)\n",
    "\n",
    "# Calculate the predictions given the year\n",
    "profits = reg.predict(np.array(genre_df['Year']).reshape(-1, 1))\n",
    "\n",
    "# Return the coefficients for the year variable and y intercept.\n",
    "print(\"The slope of the model is: {}\".format(reg.coef_))\n",
    "print(\"The y-intercept of the model is: {}\".format(reg.intercept_))"
   ]
  },
  {
   "cell_type": "code",
   "execution_count": 21,
   "metadata": {
    "colab": {
     "base_uri": "https://localhost:8080/",
     "height": 633
    },
    "colab_type": "code",
    "id": "8r-vbQICVx5b",
    "outputId": "34684986-8001-4202-d5ff-fbc51d1730d5"
   },
   "outputs": [
    {
     "data": {
      "image/png": "[encoded data removed]",
      "text/plain": [
       "<Figure size 432x288 with 1 Axes>"
      ]
     },
     "metadata": {
      "needs_background": "light"
     },
     "output_type": "display_data"
    },
    {
     "data": {
      "image/png": "[encoded data removed]",
      "text/plain": [
       "<Figure size 360x360 with 1 Axes>"
      ]
     },
     "metadata": {
      "needs_background": "light"
     },
     "output_type": "display_data"
    }
   ],
   "source": [
    "# Place the linear model onto the same plot\n",
    "plt.plot(genre_df['Year'], profits, color='green')\n",
    "# Make a scatter plot of the different profit distributions per year\n",
    "sns.lmplot(x=\"Year\", y=\"Profit\", data=genre_df, fit_reg=False)\n",
    "# Title \n",
    "plt.title('Year vs Profit linear regression model')\n",
    "plt.show()"
   ]
  },
  {
   "cell_type": "markdown",
   "metadata": {
    "colab_type": "text",
    "id": "0fLM_Y-AYcFo"
   },
   "source": [
    "### Machine Learning: Multiple Linear Regression\n",
    "Below, we fit an interaction term in relation to the movie genre to differentiate how the profit changed across time. The model above, which included all movies regardless of genre, is not representative of how profit changes in accordance to genre. Therefore, we created a series of linear regression models for each genre to see if there is drastic and slight change."
   ]
  },
  {
   "cell_type": "code",
   "execution_count": 22,
   "metadata": {
    "colab": {
     "base_uri": "https://localhost:8080/",
     "height": 1000
    },
    "colab_type": "code",
    "id": "6fyk5Eo1WNzQ",
    "outputId": "aeb1b99d-5c9d-4944-8e19-9a59b349e26d"
   },
   "outputs": [
    {
     "name": "stdout",
     "output_type": "stream",
     "text": [
      "                            OLS Regression Results                            \n",
      "==============================================================================\n",
      "Dep. Variable:                 Profit   R-squared:                       0.026\n",
      "Model:                            OLS   Adj. R-squared:                 -0.026\n",
      "Method:                 Least Squares   F-statistic:                    0.4982\n",
      "Date:                Mon, 16 Dec 2019   Prob (F-statistic):              0.998\n",
      "Time:                        13:38:40   Log-Likelihood:                -19727.\n",
      "No. Observations:                 877   AIC:                         3.954e+04\n",
      "Df Residuals:                     832   BIC:                         3.976e+04\n",
      "Df Model:                          44                                         \n",
      "Covariance Type:            nonrobust                                         \n",
      "=============================================================================================\n",
      "                                coef    std err          t      P>|t|      [0.025      0.975]\n",
      "---------------------------------------------------------------------------------------------\n",
      "Intercept                   3.11e+10   2.56e+10      1.216      0.224   -1.91e+10    8.13e+10\n",
      "Genre[T.Adventure]        -1.734e+10   3.39e+10     -0.511      0.609   -8.39e+10    4.92e+10\n",
      "Genre[T.Animation]        -9.569e+10   8.27e+10     -1.157      0.248   -2.58e+11    6.67e+10\n",
      "Genre[T.Biography]        -3.476e+10   3.92e+10     -0.887      0.375   -1.12e+11    4.22e+10\n",
      "Genre[T.Comedy]           -4.168e+10   3.58e+10     -1.164      0.245   -1.12e+11    2.86e+10\n",
      "Genre[T.Crime]            -2.542e+10   3.67e+10     -0.693      0.488   -9.74e+10    4.66e+10\n",
      "Genre[T.Documentary]      -3.269e+10    6.9e+10     -0.474      0.636   -1.68e+11    1.03e+11\n",
      "Genre[T.Drama]             -4.84e+09   3.26e+10     -0.148      0.882   -6.88e+10    5.92e+10\n",
      "Genre[T.Family]           -4.195e+10   3.99e+10     -1.052      0.293    -1.2e+11    3.63e+10\n",
      "Genre[T.Fantasy]          -4.504e+10   4.39e+10     -1.026      0.305   -1.31e+11    4.11e+10\n",
      "Genre[T.Film-Noir]         -139.1707    414.291     -0.336      0.737    -952.350     674.008\n",
      "Genre[T.History]          -2.738e+10   3.96e+10     -0.691      0.490   -1.05e+11    5.04e+10\n",
      "Genre[T.Horror]           -1.904e+09   3.97e+10     -0.048      0.962   -7.98e+10     7.6e+10\n",
      "Genre[T.Music]            -3.402e+10   3.54e+10     -0.961      0.337   -1.03e+11    3.54e+10\n",
      "Genre[T.Musical]          -3.014e+10   3.68e+10     -0.818      0.414   -1.02e+11    4.22e+10\n",
      "Genre[T.Mystery]          -3.683e+10    4.1e+10     -0.899      0.369   -1.17e+11    4.36e+10\n",
      "Genre[T.Romance]           -1.45e+10    3.3e+10     -0.439      0.661   -7.93e+10    5.03e+10\n",
      "Genre[T.Sci-Fi]            3.697e+10   4.17e+10      0.886      0.376    -4.5e+10    1.19e+11\n",
      "Genre[T.Short]            -3.123e+10   2.31e+11     -0.135      0.892   -4.84e+11    4.22e+11\n",
      "Genre[T.Sport]            -2.924e+10   5.54e+10     -0.528      0.598   -1.38e+11    7.94e+10\n",
      "Genre[T.Thriller]         -7.356e+09    3.5e+10     -0.210      0.834   -7.61e+10    6.14e+10\n",
      "Genre[T.War]              -2.024e+10   3.82e+10     -0.530      0.596   -9.52e+10    5.47e+10\n",
      "Genre[T.Western]           -2.92e+10   3.74e+10     -0.781      0.435   -1.03e+11    4.42e+10\n",
      "Year                       -1.57e+07   1.29e+07     -1.222      0.222   -4.09e+07    9.52e+06\n",
      "Year:Genre[T.Adventure]    8.766e+06   1.71e+07      0.514      0.607   -2.47e+07    4.22e+07\n",
      "Year:Genre[T.Animation]    4.794e+07   4.13e+07      1.160      0.246   -3.32e+07    1.29e+08\n",
      "Year:Genre[T.Biography]    1.756e+07   1.97e+07      0.893      0.372   -2.11e+07    5.62e+07\n",
      "Year:Genre[T.Comedy]       2.114e+07    1.8e+07      1.175      0.240   -1.42e+07    5.65e+07\n",
      "Year:Genre[T.Crime]        1.286e+07   1.84e+07      0.698      0.486   -2.33e+07     4.9e+07\n",
      "Year:Genre[T.Documentary]  1.651e+07   3.45e+07      0.479      0.632   -5.12e+07    8.42e+07\n",
      "Year:Genre[T.Drama]        2.417e+06   1.64e+07      0.147      0.883   -2.98e+07    3.46e+07\n",
      "Year:Genre[T.Family]       2.126e+07      2e+07      1.063      0.288    -1.8e+07    6.05e+07\n",
      "Year:Genre[T.Fantasy]       2.28e+07    2.2e+07      1.035      0.301   -2.05e+07     6.6e+07\n",
      "Year:Genre[T.Film-Noir]   -2.717e+05   8.07e+05     -0.337      0.736   -1.86e+06    1.31e+06\n",
      "Year:Genre[T.History]      1.381e+07   1.99e+07      0.695      0.488   -2.52e+07    5.29e+07\n",
      "Year:Genre[T.Horror]       9.674e+05   1.99e+07      0.049      0.961   -3.82e+07    4.01e+07\n",
      "Year:Genre[T.Music]        1.721e+07   1.78e+07      0.967      0.334   -1.77e+07    5.21e+07\n",
      "Year:Genre[T.Musical]      1.523e+07   1.85e+07      0.823      0.411   -2.11e+07    5.16e+07\n",
      "Year:Genre[T.Mystery]      1.863e+07   2.06e+07      0.906      0.365   -2.17e+07     5.9e+07\n",
      "Year:Genre[T.Romance]       7.31e+06   1.66e+07      0.440      0.660   -2.53e+07    3.99e+07\n",
      "Year:Genre[T.Sci-Fi]      -1.868e+07    2.1e+07     -0.891      0.373   -5.98e+07    2.25e+07\n",
      "Year:Genre[T.Short]        1.577e+07   1.15e+08      0.137      0.891   -2.11e+08    2.42e+08\n",
      "Year:Genre[T.Sport]         1.48e+07   2.77e+07      0.534      0.594   -3.96e+07    6.92e+07\n",
      "Year:Genre[T.Thriller]     3.694e+06   1.76e+07      0.210      0.834   -3.09e+07    3.83e+07\n",
      "Year:Genre[T.War]          1.021e+07   1.92e+07      0.532      0.595   -2.74e+07    4.78e+07\n",
      "Year:Genre[T.Western]      1.475e+07   1.88e+07      0.785      0.433   -2.21e+07    5.16e+07\n",
      "==============================================================================\n",
      "Omnibus:                     1415.217   Durbin-Watson:                   1.929\n",
      "Prob(Omnibus):                  0.000   Jarque-Bera (JB):           566415.154\n",
      "Skew:                          -9.936   Prob(JB):                         0.00\n",
      "Kurtosis:                     125.905   Cond. No.                     1.00e+16\n",
      "==============================================================================\n",
      "\n",
      "Warnings:\n",
      "[1] Standard Errors assume that the covariance matrix of the errors is correctly specified.\n",
      "[2] The smallest eigenvalue is 3.63e-23. This might indicate that there are\n",
      "strong multicollinearity problems or that the design matrix is singular.\n"
     ]
    }
   ],
   "source": [
    "m2  = genre_df.copy()\n",
    "# Fit linear regression model with interaction term on profit per year \n",
    "# for each genre\n",
    "model2 = sm.ols(formula='Profit ~ Year * Genre', data=m2).fit()\n",
    "# Create a column in the dataframe with predicted values using the \n",
    "# regression model\n",
    "m2['Predicted'] = model2.predict(m2)\n",
    "# Calculate the residuals by finding the difference between the actual and \n",
    "# predicted values\n",
    "m2['Residual'] = m2['Profit'] - m2['Predicted']\n",
    "print(model2.summary())"
   ]
  },
  {
   "cell_type": "markdown",
   "metadata": {
    "colab_type": "text",
    "id": "g_Ia0EAVisyE"
   },
   "source": [
    "#### Looking at profit trends over time for two genres: (History and Animation) \n",
    "In this section, we selected profit distributions for two specific genres to determine what the different trends are for each genre.\n",
    "\n",
    "The first genre we selected, History, shows a negative, steadily decreasing trend in profits for films across time. We can also see that there is greater spread after the year 2000. \n",
    "\n",
    "The second genre, Animation, has a positive, increasing trend in profits for film across time. We also see 3 specific films situated right before 1990, around 1997, and 2004. "
   ]
  },
  {
   "cell_type": "code",
   "execution_count": 23,
   "metadata": {
    "colab": {},
    "colab_type": "code",
    "id": "NjskJzvklsU0"
   },
   "outputs": [],
   "source": [
    "# Historical and Animated Films Datasets \n",
    "history_df = m2[m2['Genre'] == 'History']\n",
    "animation_df = m2[m2['Genre'] == 'Animation']"
   ]
  },
  {
   "cell_type": "code",
   "execution_count": 24,
   "metadata": {
    "colab": {
     "base_uri": "https://localhost:8080/",
     "height": 204
    },
    "colab_type": "code",
    "id": "Qg7_pQzZ3PJh",
    "outputId": "a4a75430-8b6d-4c37-cb7f-db1e0360f998"
   },
   "outputs": [
    {
     "data": {
      "text/html": [
       "<div>\n",
       "<style scoped>\n",
       "    .dataframe tbody tr th:only-of-type {\n",
       "        vertical-align: middle;\n",
       "    }\n",
       "\n",
       "    .dataframe tbody tr th {\n",
       "        vertical-align: top;\n",
       "    }\n",
       "\n",
       "    .dataframe thead th {\n",
       "        text-align: right;\n",
       "    }\n",
       "</style>\n",
       "<table border=\"1\" class=\"dataframe\">\n",
       "  <thead>\n",
       "    <tr style=\"text-align: right;\">\n",
       "      <th></th>\n",
       "      <th>Genre</th>\n",
       "      <th>Year</th>\n",
       "      <th>Profit</th>\n",
       "      <th>Predicted</th>\n",
       "      <th>Residual</th>\n",
       "    </tr>\n",
       "  </thead>\n",
       "  <tbody>\n",
       "    <tr>\n",
       "      <th>422</th>\n",
       "      <td>History</td>\n",
       "      <td>1953.0</td>\n",
       "      <td>31000000.0</td>\n",
       "      <td>2.842842e+07</td>\n",
       "      <td>2.571583e+06</td>\n",
       "    </tr>\n",
       "    <tr>\n",
       "      <th>423</th>\n",
       "      <td>History</td>\n",
       "      <td>1962.0</td>\n",
       "      <td>-9000000.0</td>\n",
       "      <td>1.143771e+07</td>\n",
       "      <td>-2.043771e+07</td>\n",
       "    </tr>\n",
       "    <tr>\n",
       "      <th>424</th>\n",
       "      <td>History</td>\n",
       "      <td>1963.0</td>\n",
       "      <td>26635000.0</td>\n",
       "      <td>9.549852e+06</td>\n",
       "      <td>1.708515e+07</td>\n",
       "    </tr>\n",
       "    <tr>\n",
       "      <th>425</th>\n",
       "      <td>History</td>\n",
       "      <td>1965.0</td>\n",
       "      <td>-12000000.0</td>\n",
       "      <td>5.774140e+06</td>\n",
       "      <td>-1.777414e+07</td>\n",
       "    </tr>\n",
       "    <tr>\n",
       "      <th>426</th>\n",
       "      <td>History</td>\n",
       "      <td>1970.0</td>\n",
       "      <td>2200000.0</td>\n",
       "      <td>-3.665143e+06</td>\n",
       "      <td>5.865143e+06</td>\n",
       "    </tr>\n",
       "  </tbody>\n",
       "</table>\n",
       "</div>"
      ],
      "text/plain": [
       "       Genre    Year      Profit     Predicted      Residual\n",
       "422  History  1953.0  31000000.0  2.842842e+07  2.571583e+06\n",
       "423  History  1962.0  -9000000.0  1.143771e+07 -2.043771e+07\n",
       "424  History  1963.0  26635000.0  9.549852e+06  1.708515e+07\n",
       "425  History  1965.0 -12000000.0  5.774140e+06 -1.777414e+07\n",
       "426  History  1970.0   2200000.0 -3.665143e+06  5.865143e+06"
      ]
     },
     "execution_count": 24,
     "metadata": {},
     "output_type": "execute_result"
    }
   ],
   "source": [
    "history_df.reset_index()\n",
    "history_df.head()"
   ]
  },
  {
   "cell_type": "code",
   "execution_count": 25,
   "metadata": {
    "colab": {
     "base_uri": "https://localhost:8080/",
     "height": 204
    },
    "colab_type": "code",
    "id": "TyQE7ZVG3YYT",
    "outputId": "c9c47fb9-bf04-4987-c373-055a0a520f72"
   },
   "outputs": [
    {
     "data": {
      "text/html": [
       "<div>\n",
       "<style scoped>\n",
       "    .dataframe tbody tr th:only-of-type {\n",
       "        vertical-align: middle;\n",
       "    }\n",
       "\n",
       "    .dataframe tbody tr th {\n",
       "        vertical-align: top;\n",
       "    }\n",
       "\n",
       "    .dataframe thead th {\n",
       "        text-align: right;\n",
       "    }\n",
       "</style>\n",
       "<table border=\"1\" class=\"dataframe\">\n",
       "  <thead>\n",
       "    <tr style=\"text-align: right;\">\n",
       "      <th></th>\n",
       "      <th>Genre</th>\n",
       "      <th>Year</th>\n",
       "      <th>Profit</th>\n",
       "      <th>Predicted</th>\n",
       "      <th>Residual</th>\n",
       "    </tr>\n",
       "  </thead>\n",
       "  <tbody>\n",
       "    <tr>\n",
       "      <th>106</th>\n",
       "      <td>Animation</td>\n",
       "      <td>1988.0</td>\n",
       "      <td>-1.063968e+09</td>\n",
       "      <td>-4.970570e+08</td>\n",
       "      <td>-5.669110e+08</td>\n",
       "    </tr>\n",
       "    <tr>\n",
       "      <th>107</th>\n",
       "      <td>Animation</td>\n",
       "      <td>1992.0</td>\n",
       "      <td>1.893502e+08</td>\n",
       "      <td>-3.680968e+08</td>\n",
       "      <td>5.574470e+08</td>\n",
       "    </tr>\n",
       "    <tr>\n",
       "      <th>108</th>\n",
       "      <td>Animation</td>\n",
       "      <td>1993.0</td>\n",
       "      <td>-2.733072e+07</td>\n",
       "      <td>-3.358568e+08</td>\n",
       "      <td>3.085260e+08</td>\n",
       "    </tr>\n",
       "    <tr>\n",
       "      <th>109</th>\n",
       "      <td>Animation</td>\n",
       "      <td>1994.0</td>\n",
       "      <td>3.777838e+08</td>\n",
       "      <td>-3.036167e+08</td>\n",
       "      <td>6.814005e+08</td>\n",
       "    </tr>\n",
       "    <tr>\n",
       "      <th>110</th>\n",
       "      <td>Animation</td>\n",
       "      <td>1995.0</td>\n",
       "      <td>2.483962e+08</td>\n",
       "      <td>-2.713767e+08</td>\n",
       "      <td>5.197729e+08</td>\n",
       "    </tr>\n",
       "  </tbody>\n",
       "</table>\n",
       "</div>"
      ],
      "text/plain": [
       "         Genre    Year        Profit     Predicted      Residual\n",
       "106  Animation  1988.0 -1.063968e+09 -4.970570e+08 -5.669110e+08\n",
       "107  Animation  1992.0  1.893502e+08 -3.680968e+08  5.574470e+08\n",
       "108  Animation  1993.0 -2.733072e+07 -3.358568e+08  3.085260e+08\n",
       "109  Animation  1994.0  3.777838e+08 -3.036167e+08  6.814005e+08\n",
       "110  Animation  1995.0  2.483962e+08 -2.713767e+08  5.197729e+08"
      ]
     },
     "execution_count": 25,
     "metadata": {},
     "output_type": "execute_result"
    }
   ],
   "source": [
    "animation_df.reset_index()\n",
    "animation_df.head()"
   ]
  },
  {
   "cell_type": "code",
   "execution_count": 26,
   "metadata": {
    "colab": {
     "base_uri": "https://localhost:8080/",
     "height": 295
    },
    "colab_type": "code",
    "id": "7o2XLL9rmy26",
    "outputId": "c0f1198e-9b74-4dd4-98f9-60ef3d5d6a49"
   },
   "outputs": [
    {
     "data": {
      "image/png": "[encoded data removed]",
      "text/plain": [
       "<Figure size 432x288 with 1 Axes>"
      ]
     },
     "metadata": {
      "needs_background": "light"
     },
     "output_type": "display_data"
    }
   ],
   "source": [
    "# Historical film scatter plot \n",
    "sns.scatterplot(x=history_df['Year'], y=history_df['Profit'])\n",
    "# Fit interaction model on history profits\n",
    "plt.plot(history_df['Year'], history_df['Predicted'], color='purple')\n",
    "plt.title('Profits over time for Historical Films')\n",
    "plt.show()"
   ]
  },
  {
   "cell_type": "code",
   "execution_count": 27,
   "metadata": {
    "colab": {
     "base_uri": "https://localhost:8080/",
     "height": 295
    },
    "colab_type": "code",
    "id": "HmUk_FnjnYRw",
    "outputId": "181c1159-d98b-4cfa-df1b-8104e18fc9a7"
   },
   "outputs": [
    {
     "data": {
      "image/png": "[encoded data removed]",
      "text/plain": [
       "<Figure size 432x288 with 1 Axes>"
      ]
     },
     "metadata": {
      "needs_background": "light"
     },
     "output_type": "display_data"
    }
   ],
   "source": [
    "# Animated film scatter plot \n",
    "sns.scatterplot(x=animation_df['Year'], y=animation_df['Profit'])\n",
    "# Fit interaction model on animation profits\n",
    "plt.plot(animation_df['Year'], animation_df['Predicted'], color='green')\n",
    "plt.title('Profits over time for Animated Films')\n",
    "plt.show()"
   ]
  },
  {
   "cell_type": "markdown",
   "metadata": {
    "colab_type": "text",
    "id": "JTo-HjZsjCSB"
   },
   "source": [
    "### Write up: Genre as an Interaction term \n",
    "Above, we can see that an interaction term was necessary to understand the trends of profit for our film dataset. We can see that there is a relationship between year and profit for each genre. Additionally, we can see that this relationship is different for each corresponding genre. Above, we determined that historical films have been decreasing in profit across time while animated films have increased steadily across time.\n",
    "\n",
    "From the table above of our regression results, we can see that the p-values are larger than our significance value of 0.05. Therefore, we fail to reject our null-hypothesis that genre does not determine a film's success. We must accept the null-hypothesis because there is insufficient evidence to support the claim that movie genre determines a film's success. For further exploration, we can look at interaction terms for the IMBD scores and others to determine if they have a significant impact on a film's success.\n"
   ]
  },
  {
   "cell_type": "markdown",
   "metadata": {
    "colab_type": "text",
    "id": "FUkQoHgJjDvK"
   },
   "source": [
    "### Violinplot for Residual Profits by Genre\n",
    "Below is a residual plot for profits for each genre. We split the genre list in half to get a better look at the violin plots. \n",
    "\n",
    "From our plots, we can see that there are certain genres with wider violinplots because of outliers. Some of these include Action, Adventure, Comedy and Science Fiction. This is likely due to the greater population sizes of these genres. In contrast, there are certain genres with smaller violinplots. This is due to a small number of films of that genre type. The genre with the widest violinplot is Sci-Fi. "
   ]
  },
  {
   "cell_type": "code",
   "execution_count": 28,
   "metadata": {
    "colab": {
     "base_uri": "https://localhost:8080/",
     "height": 340
    },
    "colab_type": "code",
    "id": "p49uyU5xWRSd",
    "outputId": "3f9e42e9-d4ba-462b-b223-0349fd7b24b9"
   },
   "outputs": [
    {
     "data": {
      "image/png": "[encoded data removed]",
      "text/plain": [
       "<Figure size 432x288 with 1 Axes>"
      ]
     },
     "metadata": {
      "needs_background": "light"
     },
     "output_type": "display_data"
    }
   ],
   "source": [
    "# Genres: Action, Adventure, Animation, Biography, Comedy, Crime, Documentary\n",
    "# Drama, Family, Fantasy, Film-Noir\n",
    "\n",
    "# Split the profits vs. genre dataframe into two dataframes\n",
    "m3 = m2[m2['Genre'] < 'H'] \n",
    "m4 = m2[m2['Genre'] > 'H'] \n",
    "# First half (first 11 genres alphabetically) of residual violinplots \n",
    "sns.violinplot(x=m3['Genre'], y=m3['Residual']).set_title('Residual Profits')\n",
    "plt.xticks(rotation ='45')\n",
    "plt.show()"
   ]
  },
  {
   "cell_type": "code",
   "execution_count": 29,
   "metadata": {
    "colab": {
     "base_uri": "https://localhost:8080/",
     "height": 359
    },
    "colab_type": "code",
    "id": "76Myli71lx8p",
    "outputId": "fab8c3d6-1699-4456-df80-cab62b379ca5"
   },
   "outputs": [
    {
     "data": {
      "text/plain": [
       "(array([ 0,  1,  2,  3,  4,  5,  6,  7,  8,  9, 10, 11]),\n",
       " <a list of 12 Text xticklabel objects>)"
      ]
     },
     "execution_count": 29,
     "metadata": {},
     "output_type": "execute_result"
    },
    {
     "data": {
      "image/png": "[encoded data removed]",
      "text/plain": [
       "<Figure size 432x288 with 1 Axes>"
      ]
     },
     "metadata": {
      "needs_background": "light"
     },
     "output_type": "display_data"
    }
   ],
   "source": [
    "# History, Horror, Music, Musical, Mystery, Romance, Sci-Fi, Short, Sport\n",
    "# Thriller, War, Western\n",
    "\n",
    "# Second half (second 12 genres alphabetically) of residual violinplots \n",
    "sns.violinplot(x=m4['Genre'], y=m4['Residual']).set_title('Residual Profits')\n",
    "plt.xticks(rotation ='45')"
   ]
  },
  {
   "cell_type": "markdown",
   "metadata": {
    "colab_type": "text",
    "id": "EojXyTVd8WWL"
   },
   "source": [
    "# Conclusion: \n",
    "\n",
    "In summary, we wanted to test and explore a movie dataset to figure out which variables within a film will determine whether or not it becomes successful. To do this, we established that profit was an important factor to analyze and incorporate into our data exploration. We began by cleaning up our data for missing values and removing unnecessary variables to narrow down our search. We selected IMDb scores, profit, genres, director names, gross, budget, and content-ratings as columns for our main dataset. \n",
    "\n",
    "We generated a series of dataframes to better understand the distribution of our dataset. This meant tracking down the allocation of films by genre and director. In addition to this, we determine how much profit each genre made over time. From this, we found that Drama, Comedy and Thriller were the most popular genres. For directors, Steven Spielberg, Woody Allen, and Clint Eastwood have directed the highest number of films.\n",
    "\n",
    "In our exploration section, we took a look at profit distributions for our 30 selected directors across time. Then, we looked at what content-ratings were the most common (we found that PG-13, PG, and G had the highest counts in that order respectively). We determined that profit and budget had a positive relationship before the 70s. This is likely because there were less films being made and available before 1970. Additionally, the profit distribution across time showed that profits were generally positive (with the exception of a few outliers) until the 21 century. In the 21 century plot, we can see that there are more films below and above the x axis, indicating that more films made negative profit (made less than their budget) as well as more films that made more profit. From our IMDb scores vs. gross, we can see that gross and IMDb scores have a positive relationship, so when IMDb scores ranges increase, when gross increases. \n",
    "\n",
    "For our machine learning section, we performed both simple and multiple regression on movie title year and profit. At a significance level (alpha) of 0.05, we found that we cannot reject the null hypothesis that year does not determines a film's success. Additionally, we discovered that our interaction term (genre) did not have a significant impact in determining a film's success either. This was determined because our p-values were greater than 0.05. \n",
    "\n",
    "Through this project, we were able to learn more about how the characteristics of films affect their profitability.  We were able to interpret why films produced within a specific decade exhibit certain trends (i.e. films made closer to the 40s and 50s had produced higher profit values due to the lack of films available and because films became more viable after this time). We can conclude that there is a  relationship present between an IMDB score and profit (generally IMDb scores are higher for films with higher profit). Also, that characteristics such as director and budget have an effect on the profit of a film. However, we weren't able to determine what characteristic(s) directly affect a film's success. We believe that more factors need to be considered when determining what creates the \"theatricality\" for a film and what drives people to the movie theatre. We encourage future projects to look deeper into other characteristics of films to determine this answer."
   ]
  },
  {
   "cell_type": "markdown",
   "metadata": {
    "colab_type": "text",
    "id": "-yUnxeiBHD0v"
   },
   "source": [
    "# Project Notes\n",
    "This project was created by Laura Anyanwu, Claire Lee, and Su'ad Mohamud as a project for the CMSC 320 Data Science class offered to undergraduate students under the Computer Science department at the University of Maryland-College Park. "
   ]
  },
  {
   "cell_type": "markdown",
   "metadata": {
    "colab_type": "text",
    "id": "PcC8B0RLHEJ6"
   },
   "source": [
    "# Credits\n",
    "The data was obtained from [IMDB 5000 Movie Dataset](https://www.kaggle.com/carolzhangdc/imdb-5000-movie-dataset#movie_metadata.csv). The visualizations were designed using Python libraries."
   ]
  }
 ],
 "metadata": {
  "accelerator": "GPU",
  "colab": {
   "collapsed_sections": [],
   "name": "main.ipynb",
   "provenance": []
  },
  "kernelspec": {
   "display_name": "Python 3",
   "language": "python",
   "name": "python3"
  },
  "language_info": {
   "codemirror_mode": {
    "name": "ipython",
    "version": 3
   },
   "file_extension": ".py",
   "mimetype": "text/x-python",
   "name": "python",
   "nbconvert_exporter": "python",
   "pygments_lexer": "ipython3",
   "version": "3.7.3"
  },
  "widgets": {
   "application/vnd.jupyter.widget-state+json": {
    "058c349952ba4128b819d9901fce3d81": {
     "model_module": "@jupyter-widgets/base",
     "model_name": "LayoutModel",
     "state": {
      "_model_module": "@jupyter-widgets/base",
      "_model_module_version": "1.2.0",
      "_model_name": "LayoutModel",
      "_view_count": null,
      "_view_module": "@jupyter-widgets/base",
      "_view_module_version": "1.2.0",
      "_view_name": "LayoutView",
      "align_content": null,
      "align_items": null,
      "align_self": null,
      "border": null,
      "bottom": null,
      "display": null,
      "flex": null,
      "flex_flow": null,
      "grid_area": null,
      "grid_auto_columns": null,
      "grid_auto_flow": null,
      "grid_auto_rows": null,
      "grid_column": null,
      "grid_gap": null,
      "grid_row": null,
      "grid_template_areas": null,
      "grid_template_columns": null,
      "grid_template_rows": null,
      "height": null,
      "justify_content": null,
      "justify_items": null,
      "left": null,
      "margin": null,
      "max_height": null,
      "max_width": null,
      "min_height": null,
      "min_width": null,
      "object_fit": null,
      "object_position": null,
      "order": null,
      "overflow": null,
      "overflow_x": null,
      "overflow_y": null,
      "padding": null,
      "right": null,
      "top": null,
      "visibility": null,
      "width": null
     }
    },
    "073afe2c0d4a446898ca3c6ca4023a41": {
     "model_module": "@jupyter-widgets/controls",
     "model_name": "VBoxModel",
     "state": {
      "_dom_classes": [
       "widget-interact"
      ],
      "_model_module": "@jupyter-widgets/controls",
      "_model_module_version": "1.5.0",
      "_model_name": "VBoxModel",
      "_view_count": null,
      "_view_module": "@jupyter-widgets/controls",
      "_view_module_version": "1.5.0",
      "_view_name": "VBoxView",
      "box_style": "",
      "children": [
       "IPY_MODEL_e50e627a4e4f40668e23bfad1a41ee94",
       "IPY_MODEL_c7d70e23d40c423e92ecb82f0657a96b"
      ],
      "layout": "IPY_MODEL_2f560c4161014ded994513b8a9e967dc"
     }
    },
    "1581ae91e5b54cfbbda4aba3559ac7dd": {
     "model_module": "@jupyter-widgets/base",
     "model_name": "LayoutModel",
     "state": {
      "_model_module": "@jupyter-widgets/base",
      "_model_module_version": "1.2.0",
      "_model_name": "LayoutModel",
      "_view_count": null,
      "_view_module": "@jupyter-widgets/base",
      "_view_module_version": "1.2.0",
      "_view_name": "LayoutView",
      "align_content": null,
      "align_items": null,
      "align_self": null,
      "border": null,
      "bottom": null,
      "display": null,
      "flex": null,
      "flex_flow": null,
      "grid_area": null,
      "grid_auto_columns": null,
      "grid_auto_flow": null,
      "grid_auto_rows": null,
      "grid_column": null,
      "grid_gap": null,
      "grid_row": null,
      "grid_template_areas": null,
      "grid_template_columns": null,
      "grid_template_rows": null,
      "height": null,
      "justify_content": null,
      "justify_items": null,
      "left": null,
      "margin": null,
      "max_height": null,
      "max_width": null,
      "min_height": null,
      "min_width": null,
      "object_fit": null,
      "object_position": null,
      "order": null,
      "overflow": null,
      "overflow_x": null,
      "overflow_y": null,
      "padding": null,
      "right": null,
      "top": null,
      "visibility": null,
      "width": null
     }
    },
    "16458303fb17491da0cf719fdf7771e8": {
     "model_module": "@jupyter-widgets/output",
     "model_name": "OutputModel",
     "state": {
      "_dom_classes": [],
      "_model_module": "@jupyter-widgets/output",
      "_model_module_version": "1.0.0",
      "_model_name": "OutputModel",
      "_view_count": null,
      "_view_module": "@jupyter-widgets/output",
      "_view_module_version": "1.0.0",
      "_view_name": "OutputView",
      "layout": "IPY_MODEL_881a2e4fc4de42cc8cf8f6dc1f63bcce",
      "msg_id": "",
      "outputs": [
       {
        "image/png": "iVBORw0KGgoAAAANSUhEUgAAAYwAAAFACAYAAACvE0uFAAAABHNCSVQICAgIfAhkiAAAAAlwSFlz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\nBUNEROKigiEiInH5f9IcSBgGeKuYAAAAAElFTkSuQmCC\n",
        "metadata": {
         "tags": []
        },
        "output_type": "display_data",
        "text/plain": "<Figure size 432x288 with 1 Axes>"
       },
       {
        "image/png": "iVBORw0KGgoAAAANSUhEUgAAAXgAAAElCAYAAADujfmPAAAABHNCSVQICAgIfAhkiAAAAAlwSFlz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\ngiCoUiLAB0EQVCkR4IMgCKqU/wcNcHSieMQlMgAAAABJRU5ErkJggg==\n",
        "metadata": {
         "tags": []
        },
        "output_type": "display_data",
        "text/plain": "<Figure size 432x288 with 1 Axes>"
       }
      ]
     }
    },
    "19f00975b449451c9ea9e596bb0f2c07": {
     "model_module": "@jupyter-widgets/controls",
     "model_name": "VBoxModel",
     "state": {
      "_dom_classes": [
       "widget-interact"
      ],
      "_model_module": "@jupyter-widgets/controls",
      "_model_module_version": "1.5.0",
      "_model_name": "VBoxModel",
      "_view_count": null,
      "_view_module": "@jupyter-widgets/controls",
      "_view_module_version": "1.5.0",
      "_view_name": "VBoxView",
      "box_style": "",
      "children": [
       "IPY_MODEL_6be83c64541b439b9c399ba9a0d1ebdd",
       "IPY_MODEL_16458303fb17491da0cf719fdf7771e8"
      ],
      "layout": "IPY_MODEL_1f82ad31250243e8aa2d989c72e09d2c"
     }
    },
    "1de4686c842940739ef22b8921008cbb": {
     "model_module": "@jupyter-widgets/controls",
     "model_name": "DescriptionStyleModel",
     "state": {
      "_model_module": "@jupyter-widgets/controls",
      "_model_module_version": "1.5.0",
      "_model_name": "DescriptionStyleModel",
      "_view_count": null,
      "_view_module": "@jupyter-widgets/base",
      "_view_module_version": "1.2.0",
      "_view_name": "StyleView",
      "description_width": ""
     }
    },
    "1f82ad31250243e8aa2d989c72e09d2c": {
     "model_module": "@jupyter-widgets/base",
     "model_name": "LayoutModel",
     "state": {
      "_model_module": "@jupyter-widgets/base",
      "_model_module_version": "1.2.0",
      "_model_name": "LayoutModel",
      "_view_count": null,
      "_view_module": "@jupyter-widgets/base",
      "_view_module_version": "1.2.0",
      "_view_name": "LayoutView",
      "align_content": null,
      "align_items": null,
      "align_self": null,
      "border": null,
      "bottom": null,
      "display": null,
      "flex": null,
      "flex_flow": null,
      "grid_area": null,
      "grid_auto_columns": null,
      "grid_auto_flow": null,
      "grid_auto_rows": null,
      "grid_column": null,
      "grid_gap": null,
      "grid_row": null,
      "grid_template_areas": null,
      "grid_template_columns": null,
      "grid_template_rows": null,
      "height": null,
      "justify_content": null,
      "justify_items": null,
      "left": null,
      "margin": null,
      "max_height": null,
      "max_width": null,
      "min_height": null,
      "min_width": null,
      "object_fit": null,
      "object_position": null,
      "order": null,
      "overflow": null,
      "overflow_x": null,
      "overflow_y": null,
      "padding": null,
      "right": null,
      "top": null,
      "visibility": null,
      "width": null
     }
    },
    "2060a5458e9c49ecbe4c57c8be804dac": {
     "model_module": "@jupyter-widgets/controls",
     "model_name": "DescriptionStyleModel",
     "state": {
      "_model_module": "@jupyter-widgets/controls",
      "_model_module_version": "1.5.0",
      "_model_name": "DescriptionStyleModel",
      "_view_count": null,
      "_view_module": "@jupyter-widgets/base",
      "_view_module_version": "1.2.0",
      "_view_name": "StyleView",
      "description_width": ""
     }
    },
    "20ccef676bec4bdaae82d4e7e430eb1f": {
     "model_module": "@jupyter-widgets/controls",
     "model_name": "VBoxModel",
     "state": {
      "_dom_classes": [
       "widget-interact"
      ],
      "_model_module": "@jupyter-widgets/controls",
      "_model_module_version": "1.5.0",
      "_model_name": "VBoxModel",
      "_view_count": null,
      "_view_module": "@jupyter-widgets/controls",
      "_view_module_version": "1.5.0",
      "_view_name": "VBoxView",
      "box_style": "",
      "children": [
       "IPY_MODEL_39a6bda7065b4bb291e243e6ff35e2fe",
       "IPY_MODEL_51ae396f023140ccafc120b18b1d090d"
      ],
      "layout": "IPY_MODEL_8e77f1e6a1554bbcb9cd6d84a74acd6b"
     }
    },
    "2f560c4161014ded994513b8a9e967dc": {
     "model_module": "@jupyter-widgets/base",
     "model_name": "LayoutModel",
     "state": {
      "_model_module": "@jupyter-widgets/base",
      "_model_module_version": "1.2.0",
      "_model_name": "LayoutModel",
      "_view_count": null,
      "_view_module": "@jupyter-widgets/base",
      "_view_module_version": "1.2.0",
      "_view_name": "LayoutView",
      "align_content": null,
      "align_items": null,
      "align_self": null,
      "border": null,
      "bottom": null,
      "display": null,
      "flex": null,
      "flex_flow": null,
      "grid_area": null,
      "grid_auto_columns": null,
      "grid_auto_flow": null,
      "grid_auto_rows": null,
      "grid_column": null,
      "grid_gap": null,
      "grid_row": null,
      "grid_template_areas": null,
      "grid_template_columns": null,
      "grid_template_rows": null,
      "height": null,
      "justify_content": null,
      "justify_items": null,
      "left": null,
      "margin": null,
      "max_height": null,
      "max_width": null,
      "min_height": null,
      "min_width": null,
      "object_fit": null,
      "object_position": null,
      "order": null,
      "overflow": null,
      "overflow_x": null,
      "overflow_y": null,
      "padding": null,
      "right": null,
      "top": null,
      "visibility": null,
      "width": null
     }
    },
    "39a6bda7065b4bb291e243e6ff35e2fe": {
     "model_module": "@jupyter-widgets/controls",
     "model_name": "DropdownModel",
     "state": {
      "_dom_classes": [],
      "_model_module": "@jupyter-widgets/controls",
      "_model_module_version": "1.5.0",
      "_model_name": "DropdownModel",
      "_options_labels": [
       "1940-1949",
       "1950 - 1959",
       "1960- 1969",
       "1970 - 1979",
       "1980 - 1989",
       "1990 - 1999",
       "2000 - 2009",
       "2010 - 2019"
      ],
      "_view_count": null,
      "_view_module": "@jupyter-widgets/controls",
      "_view_module_version": "1.5.0",
      "_view_name": "DropdownView",
      "description": "Time Period:",
      "description_tooltip": null,
      "disabled": false,
      "index": 0,
      "layout": "IPY_MODEL_058c349952ba4128b819d9901fce3d81",
      "style": "IPY_MODEL_1de4686c842940739ef22b8921008cbb"
     }
    },
    "3cb729b7cb48492a93dd061ca1cc61ea": {
     "model_module": "@jupyter-widgets/base",
     "model_name": "LayoutModel",
     "state": {
      "_model_module": "@jupyter-widgets/base",
      "_model_module_version": "1.2.0",
      "_model_name": "LayoutModel",
      "_view_count": null,
      "_view_module": "@jupyter-widgets/base",
      "_view_module_version": "1.2.0",
      "_view_name": "LayoutView",
      "align_content": null,
      "align_items": null,
      "align_self": null,
      "border": null,
      "bottom": null,
      "display": null,
      "flex": null,
      "flex_flow": null,
      "grid_area": null,
      "grid_auto_columns": null,
      "grid_auto_flow": null,
      "grid_auto_rows": null,
      "grid_column": null,
      "grid_gap": null,
      "grid_row": null,
      "grid_template_areas": null,
      "grid_template_columns": null,
      "grid_template_rows": null,
      "height": null,
      "justify_content": null,
      "justify_items": null,
      "left": null,
      "margin": null,
      "max_height": null,
      "max_width": null,
      "min_height": null,
      "min_width": null,
      "object_fit": null,
      "object_position": null,
      "order": null,
      "overflow": null,
      "overflow_x": null,
      "overflow_y": null,
      "padding": null,
      "right": null,
      "top": null,
      "visibility": null,
      "width": null
     }
    },
    "51ae396f023140ccafc120b18b1d090d": {
     "model_module": "@jupyter-widgets/output",
     "model_name": "OutputModel",
     "state": {
      "_dom_classes": [],
      "_model_module": "@jupyter-widgets/output",
      "_model_module_version": "1.0.0",
      "_model_name": "OutputModel",
      "_view_count": null,
      "_view_module": "@jupyter-widgets/output",
      "_view_module_version": "1.0.0",
      "_view_name": "OutputView",
      "layout": "IPY_MODEL_86dfc5f6c0af40dfaf792e15c111f7dd",
      "msg_id": "",
      "outputs": [
       {
        "image/png": "iVBORw0KGgoAAAANSUhEUgAAAYUAAAFBCAYAAACYWrPqAAAABHNCSVQICAgIfAhkiAAAAAlwSFlz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\nmVnOScHMzHL/H8eCikbHm4D5AAAAAElFTkSuQmCC\n",
        "metadata": {
         "tags": []
        },
        "output_type": "display_data",
        "text/plain": "<Figure size 432x288 with 1 Axes>"
       }
      ]
     }
    },
    "52cd93be3b2d4b9c8184a194af45c0ec": {
     "model_module": "@jupyter-widgets/controls",
     "model_name": "DropdownModel",
     "state": {
      "_dom_classes": [],
      "_model_module": "@jupyter-widgets/controls",
      "_model_module_version": "1.5.0",
      "_model_name": "DropdownModel",
      "_options_labels": [
       "Alfred Hitchcock",
       "Ang Lee",
       "Ava DuVernay",
       "Chris Columbus",
       "Christopher Nolan",
       "Clint Eastwood",
       "Danny Boyle",
       "Darren Aronofsky",
       "David Fincher",
       "Francis Ford Coppola",
       "Frank Darabont",
       "George Lucas",
       "James Cameron",
       "James Wan",
       "Joel Coen",
       "Joon-ho Bong",
       "Lee Daniels",
       "Martin Scorsese",
       "Quentin Tarantino",
       "Ridley Scott",
       "Robert Zemeckis",
       "Roland Emmerich",
       "Roman Polanski",
       "Ron Howard",
       "Ryan Coogler",
       "Sam Mendes",
       "Spike Lee",
       "Steven Spielberg",
       "Tim Burton",
       "Woody Allen"
      ],
      "_view_count": null,
      "_view_module": "@jupyter-widgets/controls",
      "_view_module_version": "1.5.0",
      "_view_name": "DropdownView",
      "description": "Director:",
      "description_tooltip": null,
      "disabled": false,
      "index": 0,
      "layout": "IPY_MODEL_1581ae91e5b54cfbbda4aba3559ac7dd",
      "style": "IPY_MODEL_7d4834e644514b059c3c82b9bed0e576"
     }
    },
    "6be83c64541b439b9c399ba9a0d1ebdd": {
     "model_module": "@jupyter-widgets/controls",
     "model_name": "DropdownModel",
     "state": {
      "_dom_classes": [],
      "_model_module": "@jupyter-widgets/controls",
      "_model_module_version": "1.5.0",
      "_model_name": "DropdownModel",
      "_options_labels": [
       "1940-1949",
       "1950 - 1959",
       "1960- 1969",
       "1970 - 1979",
       "1980 - 1989",
       "1990 - 1999",
       "2000 - 2009",
       "2010 - 2019"
      ],
      "_view_count": null,
      "_view_module": "@jupyter-widgets/controls",
      "_view_module_version": "1.5.0",
      "_view_name": "DropdownView",
      "description": "Time Period:",
      "description_tooltip": null,
      "disabled": false,
      "index": 0,
      "layout": "IPY_MODEL_e4d3caad2a0e4c3cbd568daaec859865",
      "style": "IPY_MODEL_7cfc05ac817649a89cb42dafc2d5d85e"
     }
    },
    "720deb9a9de84a4aaee0e736b457c051": {
     "model_module": "@jupyter-widgets/controls",
     "model_name": "VBoxModel",
     "state": {
      "_dom_classes": [
       "widget-interact"
      ],
      "_model_module": "@jupyter-widgets/controls",
      "_model_module_version": "1.5.0",
      "_model_name": "VBoxModel",
      "_view_count": null,
      "_view_module": "@jupyter-widgets/controls",
      "_view_module_version": "1.5.0",
      "_view_name": "VBoxView",
      "box_style": "",
      "children": [
       "IPY_MODEL_52cd93be3b2d4b9c8184a194af45c0ec",
       "IPY_MODEL_8817cb2706d644619fa6e3ad2744078e"
      ],
      "layout": "IPY_MODEL_99c959cdf62240678e17658bda7bc0d6"
     }
    },
    "7cfc05ac817649a89cb42dafc2d5d85e": {
     "model_module": "@jupyter-widgets/controls",
     "model_name": "DescriptionStyleModel",
     "state": {
      "_model_module": "@jupyter-widgets/controls",
      "_model_module_version": "1.5.0",
      "_model_name": "DescriptionStyleModel",
      "_view_count": null,
      "_view_module": "@jupyter-widgets/base",
      "_view_module_version": "1.2.0",
      "_view_name": "StyleView",
      "description_width": ""
     }
    },
    "7d4834e644514b059c3c82b9bed0e576": {
     "model_module": "@jupyter-widgets/controls",
     "model_name": "DescriptionStyleModel",
     "state": {
      "_model_module": "@jupyter-widgets/controls",
      "_model_module_version": "1.5.0",
      "_model_name": "DescriptionStyleModel",
      "_view_count": null,
      "_view_module": "@jupyter-widgets/base",
      "_view_module_version": "1.2.0",
      "_view_name": "StyleView",
      "description_width": ""
     }
    },
    "8817cb2706d644619fa6e3ad2744078e": {
     "model_module": "@jupyter-widgets/output",
     "model_name": "OutputModel",
     "state": {
      "_dom_classes": [],
      "_model_module": "@jupyter-widgets/output",
      "_model_module_version": "1.0.0",
      "_model_name": "OutputModel",
      "_view_count": null,
      "_view_module": "@jupyter-widgets/output",
      "_view_module_version": "1.0.0",
      "_view_name": "OutputView",
      "layout": "IPY_MODEL_728d40c458ea42cfbe338530e86da0a8",
      "msg_id": "",
      "outputs": [
       {
        "image/png": "iVBORw0KGgoAAAANSUhEUgAAAY4AAAElCAYAAADz3wVRAAAABHNCSVQICAgIfAhkiAAAAAlwSFlz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\n",
        "metadata": {
         "tags": []
        },
        "output_type": "display_data",
        "text/plain": "<Figure size 432x288 with 1 Axes>"
       }
      ]
     }
    },
    "8e77f1e6a1554bbcb9cd6d84a74acd6b": {
     "model_module": "@jupyter-widgets/base",
     "model_name": "LayoutModel",
     "state": {
      "_model_module": "@jupyter-widgets/base",
      "_model_module_version": "1.2.0",
      "_model_name": "LayoutModel",
      "_view_count": null,
      "_view_module": "@jupyter-widgets/base",
      "_view_module_version": "1.2.0",
      "_view_name": "LayoutView",
      "align_content": null,
      "align_items": null,
      "align_self": null,
      "border": null,
      "bottom": null,
      "display": null,
      "flex": null,
      "flex_flow": null,
      "grid_area": null,
      "grid_auto_columns": null,
      "grid_auto_flow": null,
      "grid_auto_rows": null,
      "grid_column": null,
      "grid_gap": null,
      "grid_row": null,
      "grid_template_areas": null,
      "grid_template_columns": null,
      "grid_template_rows": null,
      "height": null,
      "justify_content": null,
      "justify_items": null,
      "left": null,
      "margin": null,
      "max_height": null,
      "max_width": null,
      "min_height": null,
      "min_width": null,
      "object_fit": null,
      "object_position": null,
      "order": null,
      "overflow": null,
      "overflow_x": null,
      "overflow_y": null,
      "padding": null,
      "right": null,
      "top": null,
      "visibility": null,
      "width": null
     }
    },
    "99c959cdf62240678e17658bda7bc0d6": {
     "model_module": "@jupyter-widgets/base",
     "model_name": "LayoutModel",
     "state": {
      "_model_module": "@jupyter-widgets/base",
      "_model_module_version": "1.2.0",
      "_model_name": "LayoutModel",
      "_view_count": null,
      "_view_module": "@jupyter-widgets/base",
      "_view_module_version": "1.2.0",
      "_view_name": "LayoutView",
      "align_content": null,
      "align_items": null,
      "align_self": null,
      "border": null,
      "bottom": null,
      "display": null,
      "flex": null,
      "flex_flow": null,
      "grid_area": null,
      "grid_auto_columns": null,
      "grid_auto_flow": null,
      "grid_auto_rows": null,
      "grid_column": null,
      "grid_gap": null,
      "grid_row": null,
      "grid_template_areas": null,
      "grid_template_columns": null,
      "grid_template_rows": null,
      "height": null,
      "justify_content": null,
      "justify_items": null,
      "left": null,
      "margin": null,
      "max_height": null,
      "max_width": null,
      "min_height": null,
      "min_width": null,
      "object_fit": null,
      "object_position": null,
      "order": null,
      "overflow": null,
      "overflow_x": null,
      "overflow_y": null,
      "padding": null,
      "right": null,
      "top": null,
      "visibility": null,
      "width": null
     }
    },
    "c7d70e23d40c423e92ecb82f0657a96b": {
     "model_module": "@jupyter-widgets/output",
     "model_name": "OutputModel",
     "state": {
      "_dom_classes": [],
      "_model_module": "@jupyter-widgets/output",
      "_model_module_version": "1.0.0",
      "_model_name": "OutputModel",
      "_view_count": null,
      "_view_module": "@jupyter-widgets/output",
      "_view_module_version": "1.0.0",
      "_view_name": "OutputView",
      "layout": "IPY_MODEL_fe95276182764ff3807ad25549d2c34c",
      "msg_id": "",
      "outputs": [
       {
        "image/png": "iVBORw0KGgoAAAANSUhEUgAAAZYAAAElCAYAAADHpsRNAAAABHNCSVQICAgIfAhkiAAAAAlwSFlz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\n",
        "metadata": {
         "tags": []
        },
        "output_type": "display_data",
        "text/plain": "<Figure size 432x288 with 1 Axes>"
       }
      ]
     }
    },
    "e4d3caad2a0e4c3cbd568daaec859865": {
     "model_module": "@jupyter-widgets/base",
     "model_name": "LayoutModel",
     "state": {
      "_model_module": "@jupyter-widgets/base",
      "_model_module_version": "1.2.0",
      "_model_name": "LayoutModel",
      "_view_count": null,
      "_view_module": "@jupyter-widgets/base",
      "_view_module_version": "1.2.0",
      "_view_name": "LayoutView",
      "align_content": null,
      "align_items": null,
      "align_self": null,
      "border": null,
      "bottom": null,
      "display": null,
      "flex": null,
      "flex_flow": null,
      "grid_area": null,
      "grid_auto_columns": null,
      "grid_auto_flow": null,
      "grid_auto_rows": null,
      "grid_column": null,
      "grid_gap": null,
      "grid_row": null,
      "grid_template_areas": null,
      "grid_template_columns": null,
      "grid_template_rows": null,
      "height": null,
      "justify_content": null,
      "justify_items": null,
      "left": null,
      "margin": null,
      "max_height": null,
      "max_width": null,
      "min_height": null,
      "min_width": null,
      "object_fit": null,
      "object_position": null,
      "order": null,
      "overflow": null,
      "overflow_x": null,
      "overflow_y": null,
      "padding": null,
      "right": null,
      "top": null,
      "visibility": null,
      "width": null
     }
    },
    "e50e627a4e4f40668e23bfad1a41ee94": {
     "model_module": "@jupyter-widgets/controls",
     "model_name": "DropdownModel",
     "state": {
      "_dom_classes": [],
      "_model_module": "@jupyter-widgets/controls",
      "_model_module_version": "1.5.0",
      "_model_name": "DropdownModel",
      "_options_labels": [
       "Alfred Hitchcock",
       "Ang Lee",
       "Ava DuVernay",
       "Chris Columbus",
       "Christopher Nolan",
       "Clint Eastwood",
       "Danny Boyle",
       "Darren Aronofsky",
       "David Fincher",
       "Francis Ford Coppola",
       "Frank Darabont",
       "George Lucas",
       "James Cameron",
       "James Wan",
       "Joel Coen",
       "Joon-ho Bong",
       "Lee Daniels",
       "Martin Scorsese",
       "Quentin Tarantino",
       "Ridley Scott",
       "Robert Zemeckis",
       "Roland Emmerich",
       "Roman Polanski",
       "Ron Howard",
       "Ryan Coogler",
       "Sam Mendes",
       "Spike Lee",
       "Steven Spielberg",
       "Tim Burton",
       "Woody Allen"
      ],
      "_view_count": null,
      "_view_module": "@jupyter-widgets/controls",
      "_view_module_version": "1.5.0",
      "_view_name": "DropdownView",
      "description": "Director:",
      "description_tooltip": null,
      "disabled": false,
      "index": 0,
      "layout": "IPY_MODEL_3cb729b7cb48492a93dd061ca1cc61ea",
      "style": "IPY_MODEL_2060a5458e9c49ecbe4c57c8be804dac"
     }
    }
   }
  }
 },
 "nbformat": 4,
 "nbformat_minor": 1
}
